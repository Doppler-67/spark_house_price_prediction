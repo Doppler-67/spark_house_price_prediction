{
 "cells": [
  {
   "cell_type": "markdown",
   "id": "2d4f179f",
   "metadata": {},
   "source": [
    "**Цель проекта:**\n",
    "\n",
    "Разработка модели для прогнозирования стоимости недвижимости при помощи spark.\n",
    "\n",
    "**Описание данных:**\n",
    "\n",
    "Для прогнозирования используются данные о недвижимости в Калифорнии.\n",
    "\n",
    "⭕ Более подробная информация находится в README файле."
   ]
  },
  {
   "cell_type": "markdown",
   "id": "c961230d",
   "metadata": {},
   "source": [
    "# **Importing libraries**"
   ]
  },
  {
   "cell_type": "code",
   "execution_count": 1,
   "id": "0af6b166",
   "metadata": {},
   "outputs": [],
   "source": [
    "import pyspark\n",
    "import pandas as pd \n",
    "import numpy as np\n",
    "import pyspark.sql.functions as F\n",
    "\n",
    "from pyspark.sql import SparkSession\n",
    "from pyspark.sql.types import *\n",
    "from pyspark.ml.regression import LinearRegression\n",
    "from pyspark.ml.feature import OneHotEncoder, StringIndexer, VectorAssembler, StandardScaler\n",
    "\n",
    "spark = SparkSession.builder \\\n",
    "                    .master(\"local\") \\\n",
    "                    .appName(\"California house median price prediction\") \\\n",
    "                    .getOrCreate()"
   ]
  },
  {
   "cell_type": "code",
   "execution_count": 2,
   "id": "f2e214c7",
   "metadata": {},
   "outputs": [],
   "source": [
    "RANDOM_SEED = 67"
   ]
  },
  {
   "cell_type": "markdown",
   "id": "53871372",
   "metadata": {
    "id": "53871372"
   },
   "source": [
    "# **Data understanding**"
   ]
  },
  {
   "cell_type": "code",
   "execution_count": 3,
   "id": "9e6c8cd3",
   "metadata": {},
   "outputs": [
    {
     "name": "stderr",
     "output_type": "stream",
     "text": [
      "                                                                                \r"
     ]
    },
    {
     "name": "stdout",
     "output_type": "stream",
     "text": [
      "root\n",
      " |-- longitude: double (nullable = true)\n",
      " |-- latitude: double (nullable = true)\n",
      " |-- housing_median_age: double (nullable = true)\n",
      " |-- total_rooms: double (nullable = true)\n",
      " |-- total_bedrooms: double (nullable = true)\n",
      " |-- population: double (nullable = true)\n",
      " |-- households: double (nullable = true)\n",
      " |-- median_income: double (nullable = true)\n",
      " |-- median_house_value: double (nullable = true)\n",
      " |-- ocean_proximity: string (nullable = true)\n",
      "\n"
     ]
    },
    {
     "name": "stderr",
     "output_type": "stream",
     "text": [
      "                                                                                \r"
     ]
    }
   ],
   "source": [
    "df_housing = spark.read.load('/ds/housing.csv', format=\"csv\", sep=\",\", inferSchema=True, header=\"true\")\n",
    "df_housing.printSchema()"
   ]
  },
  {
   "cell_type": "code",
   "execution_count": 4,
   "id": "1a068452",
   "metadata": {},
   "outputs": [
    {
     "name": "stdout",
     "output_type": "stream",
     "text": [
      "               column    type\n",
      "0           longitude  double\n",
      "1            latitude  double\n",
      "2  housing_median_age  double\n",
      "3         total_rooms  double\n",
      "4      total_bedrooms  double\n",
      "5          population  double\n",
      "6          households  double\n",
      "7       median_income  double\n",
      "8  median_house_value  double\n",
      "9     ocean_proximity  string\n"
     ]
    }
   ],
   "source": [
    "print(pd.DataFrame(df_housing.dtypes, columns=['column', 'type']))"
   ]
  },
  {
   "cell_type": "code",
   "execution_count": 5,
   "id": "38ab0e7a",
   "metadata": {},
   "outputs": [
    {
     "data": {
      "text/html": [
       "<div>\n",
       "<style scoped>\n",
       "    .dataframe tbody tr th:only-of-type {\n",
       "        vertical-align: middle;\n",
       "    }\n",
       "\n",
       "    .dataframe tbody tr th {\n",
       "        vertical-align: top;\n",
       "    }\n",
       "\n",
       "    .dataframe thead th {\n",
       "        text-align: right;\n",
       "    }\n",
       "</style>\n",
       "<table border=\"1\" class=\"dataframe\">\n",
       "  <thead>\n",
       "    <tr style=\"text-align: right;\">\n",
       "      <th></th>\n",
       "      <th>longitude</th>\n",
       "      <th>latitude</th>\n",
       "      <th>housing_median_age</th>\n",
       "      <th>total_rooms</th>\n",
       "      <th>total_bedrooms</th>\n",
       "      <th>population</th>\n",
       "      <th>households</th>\n",
       "      <th>median_income</th>\n",
       "      <th>median_house_value</th>\n",
       "      <th>ocean_proximity</th>\n",
       "    </tr>\n",
       "  </thead>\n",
       "  <tbody>\n",
       "    <tr>\n",
       "      <th>0</th>\n",
       "      <td>-122.23</td>\n",
       "      <td>37.88</td>\n",
       "      <td>41.0</td>\n",
       "      <td>880.0</td>\n",
       "      <td>129.0</td>\n",
       "      <td>322.0</td>\n",
       "      <td>126.0</td>\n",
       "      <td>8.3252</td>\n",
       "      <td>452600.0</td>\n",
       "      <td>NEAR BAY</td>\n",
       "    </tr>\n",
       "    <tr>\n",
       "      <th>1</th>\n",
       "      <td>-122.22</td>\n",
       "      <td>37.86</td>\n",
       "      <td>21.0</td>\n",
       "      <td>7099.0</td>\n",
       "      <td>1106.0</td>\n",
       "      <td>2401.0</td>\n",
       "      <td>1138.0</td>\n",
       "      <td>8.3014</td>\n",
       "      <td>358500.0</td>\n",
       "      <td>NEAR BAY</td>\n",
       "    </tr>\n",
       "    <tr>\n",
       "      <th>2</th>\n",
       "      <td>-122.24</td>\n",
       "      <td>37.85</td>\n",
       "      <td>52.0</td>\n",
       "      <td>1467.0</td>\n",
       "      <td>190.0</td>\n",
       "      <td>496.0</td>\n",
       "      <td>177.0</td>\n",
       "      <td>7.2574</td>\n",
       "      <td>352100.0</td>\n",
       "      <td>NEAR BAY</td>\n",
       "    </tr>\n",
       "    <tr>\n",
       "      <th>3</th>\n",
       "      <td>-122.25</td>\n",
       "      <td>37.85</td>\n",
       "      <td>52.0</td>\n",
       "      <td>1274.0</td>\n",
       "      <td>235.0</td>\n",
       "      <td>558.0</td>\n",
       "      <td>219.0</td>\n",
       "      <td>5.6431</td>\n",
       "      <td>341300.0</td>\n",
       "      <td>NEAR BAY</td>\n",
       "    </tr>\n",
       "    <tr>\n",
       "      <th>4</th>\n",
       "      <td>-122.25</td>\n",
       "      <td>37.85</td>\n",
       "      <td>52.0</td>\n",
       "      <td>1627.0</td>\n",
       "      <td>280.0</td>\n",
       "      <td>565.0</td>\n",
       "      <td>259.0</td>\n",
       "      <td>3.8462</td>\n",
       "      <td>342200.0</td>\n",
       "      <td>NEAR BAY</td>\n",
       "    </tr>\n",
       "  </tbody>\n",
       "</table>\n",
       "</div>"
      ],
      "text/plain": [
       "   longitude  latitude  housing_median_age  total_rooms  total_bedrooms  \\\n",
       "0    -122.23     37.88                41.0        880.0           129.0   \n",
       "1    -122.22     37.86                21.0       7099.0          1106.0   \n",
       "2    -122.24     37.85                52.0       1467.0           190.0   \n",
       "3    -122.25     37.85                52.0       1274.0           235.0   \n",
       "4    -122.25     37.85                52.0       1627.0           280.0   \n",
       "\n",
       "   population  households  median_income  median_house_value ocean_proximity  \n",
       "0       322.0       126.0         8.3252            452600.0        NEAR BAY  \n",
       "1      2401.0      1138.0         8.3014            358500.0        NEAR BAY  \n",
       "2       496.0       177.0         7.2574            352100.0        NEAR BAY  \n",
       "3       558.0       219.0         5.6431            341300.0        NEAR BAY  \n",
       "4       565.0       259.0         3.8462            342200.0        NEAR BAY  "
      ]
     },
     "execution_count": 5,
     "metadata": {},
     "output_type": "execute_result"
    }
   ],
   "source": [
    "df_housing.limit(5).toPandas()"
   ]
  },
  {
   "cell_type": "code",
   "execution_count": 6,
   "id": "57bb9b4a",
   "metadata": {},
   "outputs": [
    {
     "name": "stdout",
     "output_type": "stream",
     "text": [
      "shape:  (20640, 10)\n"
     ]
    }
   ],
   "source": [
    "print('shape: ', (df_housing.count(), len(df_housing.columns)))"
   ]
  },
  {
   "cell_type": "markdown",
   "id": "c0e10a07",
   "metadata": {},
   "source": [
    "**В датасете 20640 строк и 10 колонок. 9 колонок имеют тип double, а последняя колонка имеет тип string.**"
   ]
  },
  {
   "cell_type": "markdown",
   "id": "c656ad46",
   "metadata": {},
   "source": [
    "# **Data preparation**"
   ]
  },
  {
   "cell_type": "markdown",
   "id": "567f21ec",
   "metadata": {},
   "source": [
    "Проверим данные на наличие пропусков."
   ]
  },
  {
   "cell_type": "code",
   "execution_count": 7,
   "id": "cea6745d",
   "metadata": {},
   "outputs": [
    {
     "name": "stderr",
     "output_type": "stream",
     "text": [
      "                                                                                \r"
     ]
    },
    {
     "data": {
      "text/html": [
       "<div>\n",
       "<style scoped>\n",
       "    .dataframe tbody tr th:only-of-type {\n",
       "        vertical-align: middle;\n",
       "    }\n",
       "\n",
       "    .dataframe tbody tr th {\n",
       "        vertical-align: top;\n",
       "    }\n",
       "\n",
       "    .dataframe thead th {\n",
       "        text-align: right;\n",
       "    }\n",
       "</style>\n",
       "<table border=\"1\" class=\"dataframe\">\n",
       "  <thead>\n",
       "    <tr style=\"text-align: right;\">\n",
       "      <th></th>\n",
       "      <th>longitude</th>\n",
       "      <th>latitude</th>\n",
       "      <th>housing_median_age</th>\n",
       "      <th>total_rooms</th>\n",
       "      <th>total_bedrooms</th>\n",
       "      <th>population</th>\n",
       "      <th>households</th>\n",
       "      <th>median_income</th>\n",
       "      <th>median_house_value</th>\n",
       "      <th>ocean_proximity</th>\n",
       "    </tr>\n",
       "  </thead>\n",
       "  <tbody>\n",
       "    <tr>\n",
       "      <th>0</th>\n",
       "      <td>0</td>\n",
       "      <td>0</td>\n",
       "      <td>0</td>\n",
       "      <td>0</td>\n",
       "      <td>207</td>\n",
       "      <td>0</td>\n",
       "      <td>0</td>\n",
       "      <td>0</td>\n",
       "      <td>0</td>\n",
       "      <td>0</td>\n",
       "    </tr>\n",
       "  </tbody>\n",
       "</table>\n",
       "</div>"
      ],
      "text/plain": [
       "   longitude  latitude  housing_median_age  total_rooms  total_bedrooms  \\\n",
       "0          0         0                   0            0             207   \n",
       "\n",
       "   population  households  median_income  median_house_value  ocean_proximity  \n",
       "0           0           0              0                   0                0  "
      ]
     },
     "execution_count": 7,
     "metadata": {},
     "output_type": "execute_result"
    }
   ],
   "source": [
    "df = df_housing.select([F.count(F.when(F.col(c).contains('None') | \\\n",
    "                            F.col(c).contains('NULL') | \\\n",
    "                            (F.col(c) == '' ) | \\\n",
    "                           F.col(c).isNull() | \\\n",
    "                            F.isnan(c), c \n",
    "                           )).alias(c)\n",
    "                    for c in df_housing.columns])\n",
    "df.toPandas().head()"
   ]
  },
  {
   "cell_type": "markdown",
   "id": "0a64004d",
   "metadata": {},
   "source": [
    "Фитча total_bedrooms содержит 207 пропусков. Удалим их."
   ]
  },
  {
   "cell_type": "code",
   "execution_count": 8,
   "id": "ac7b873e",
   "metadata": {},
   "outputs": [],
   "source": [
    "df_housing = df_housing.dropna()"
   ]
  },
  {
   "cell_type": "code",
   "execution_count": 9,
   "id": "7800cc07",
   "metadata": {},
   "outputs": [],
   "source": [
    "cat_cols = ['ocean_proximity']\n",
    "num_cols = ['longitude', 'latitude', 'housing_median_age', 'total_rooms', \n",
    "            'total_bedrooms', 'total_bedrooms', 'population', 'households', 'median_income']\n",
    "target = 'median_house_value'"
   ]
  },
  {
   "cell_type": "markdown",
   "id": "3948fa58",
   "metadata": {},
   "source": [
    "Cначала трансформируем категориальный признак, а потом применим технику OHE."
   ]
  },
  {
   "cell_type": "code",
   "execution_count": 10,
   "id": "eec86f83",
   "metadata": {},
   "outputs": [
    {
     "name": "stderr",
     "output_type": "stream",
     "text": [
      "                                                                                \r"
     ]
    }
   ],
   "source": [
    "indexer = StringIndexer(inputCols=cat_cols, \n",
    "                        outputCols=[cat_cols[0] + '_idx']) \n",
    "df_housing = indexer.fit(df_housing).transform(df_housing)"
   ]
  },
  {
   "cell_type": "code",
   "execution_count": 11,
   "id": "c17eb321",
   "metadata": {},
   "outputs": [],
   "source": [
    "encoder = OneHotEncoder(inputCols=[c + '_idx' for c in cat_cols], outputCols=[c + '_ohe' for c in cat_cols])\n",
    "df_housing = encoder.fit(df_housing).transform(df_housing)"
   ]
  },
  {
   "cell_type": "code",
   "execution_count": 12,
   "id": "45fd0076",
   "metadata": {},
   "outputs": [],
   "source": [
    "cat_assembler = VectorAssembler(inputCols=[c + '_ohe' for c in cat_cols], outputCol=\"cat_features\")\n",
    "df_housing = cat_assembler.transform(df_housing) "
   ]
  },
  {
   "cell_type": "code",
   "execution_count": 13,
   "id": "eacb5fd9",
   "metadata": {},
   "outputs": [],
   "source": [
    "num_assembler = VectorAssembler(inputCols=num_cols, outputCol=\"num_features\")\n",
    "df_housing = num_assembler.transform(df_housing) "
   ]
  },
  {
   "cell_type": "markdown",
   "id": "28cedddb",
   "metadata": {},
   "source": [
    "Масштабируем численные колонки."
   ]
  },
  {
   "cell_type": "code",
   "execution_count": 14,
   "id": "861d0f14",
   "metadata": {},
   "outputs": [
    {
     "name": "stderr",
     "output_type": "stream",
     "text": [
      "                                                                                \r"
     ]
    }
   ],
   "source": [
    "standardScaler = StandardScaler(inputCol='num_features', outputCol=\"num_features_scaled\")\n",
    "df_housing = standardScaler.fit(df_housing).transform(df_housing)"
   ]
  },
  {
   "cell_type": "code",
   "execution_count": 15,
   "id": "a46db87a",
   "metadata": {},
   "outputs": [
    {
     "data": {
      "text/plain": [
       "['longitude',\n",
       " 'latitude',\n",
       " 'housing_median_age',\n",
       " 'total_rooms',\n",
       " 'total_bedrooms',\n",
       " 'population',\n",
       " 'households',\n",
       " 'median_income',\n",
       " 'median_house_value',\n",
       " 'ocean_proximity',\n",
       " 'ocean_proximity_idx',\n",
       " 'ocean_proximity_ohe',\n",
       " 'cat_features',\n",
       " 'num_features',\n",
       " 'num_features_scaled']"
      ]
     },
     "execution_count": 15,
     "metadata": {},
     "output_type": "execute_result"
    }
   ],
   "source": [
    "df_housing.columns"
   ]
  },
  {
   "cell_type": "code",
   "execution_count": 16,
   "id": "f625a01b",
   "metadata": {},
   "outputs": [],
   "source": [
    "num_and_cut_assembler = VectorAssembler(inputCols= ['cat_features','num_features_scaled'], \n",
    "                                  outputCol=\"features\") \n",
    "num_assembler = VectorAssembler(inputCols= ['num_features_scaled'], \n",
    "                                  outputCol=\"features\") \n",
    "df_housing_nc = num_and_cut_assembler.transform(df_housing)\n",
    "df_housing_n = num_assembler.transform(df_housing)"
   ]
  },
  {
   "cell_type": "code",
   "execution_count": 17,
   "id": "dbcc9dd7",
   "metadata": {},
   "outputs": [
    {
     "name": "stdout",
     "output_type": "stream",
     "text": [
      "+-------------+--------------------+\n",
      "| cat_features| num_features_scaled|\n",
      "+-------------+--------------------+\n",
      "|(4,[3],[1.0])|[-61.005863841998...|\n",
      "|(4,[3],[1.0])|[-61.000872770752...|\n",
      "|(4,[3],[1.0])|[-61.010854913244...|\n",
      "+-------------+--------------------+\n",
      "only showing top 3 rows\n",
      "\n"
     ]
    }
   ],
   "source": [
    "df_housing_nc.select(['cat_features','num_features_scaled']).show(3) "
   ]
  },
  {
   "cell_type": "markdown",
   "id": "8a1b3482",
   "metadata": {},
   "source": [
    "у нас два фрейма данных: df_housing_nc - в котором и категориальные и числовые колонки; df_housing_n - в котором только числовые колонки."
   ]
  },
  {
   "cell_type": "markdown",
   "id": "9f0a82f3",
   "metadata": {
    "id": "9f0a82f3"
   },
   "source": [
    "# **Modeling**"
   ]
  },
  {
   "cell_type": "markdown",
   "id": "fa17d0e1",
   "metadata": {},
   "source": [
    "Для оценки качества моделей будем использовать три метрики: RMSE, MAE, r2."
   ]
  },
  {
   "cell_type": "markdown",
   "id": "c541883e",
   "metadata": {},
   "source": [
    "Первая модель будет обучена и протестирована на df_housing_n, а вторая - на df_housing_nc."
   ]
  },
  {
   "cell_type": "code",
   "execution_count": 18,
   "id": "9196bff2",
   "metadata": {},
   "outputs": [
    {
     "name": "stderr",
     "output_type": "stream",
     "text": [
      "22/10/11 13:37:06 WARN BLAS: Failed to load implementation from: com.github.fommil.netlib.NativeSystemBLAS\n",
      "22/10/11 13:37:06 WARN BLAS: Failed to load implementation from: com.github.fommil.netlib.NativeRefBLAS\n",
      "22/10/11 13:37:06 WARN LAPACK: Failed to load implementation from: com.github.fommil.netlib.NativeSystemLAPACK\n",
      "22/10/11 13:37:06 WARN LAPACK: Failed to load implementation from: com.github.fommil.netlib.NativeRefLAPACK\n",
      "                                                                                \r"
     ]
    },
    {
     "name": "stdout",
     "output_type": "stream",
     "text": [
      "Model with only num features:\n",
      "RMSE: 69386.94\n",
      "MAE: 50593.09\n",
      "r2: 0.64\n"
     ]
    }
   ],
   "source": [
    "train, test = df_housing_n.randomSplit([.8, .2], seed=RANDOM_SEED)\n",
    "lr = LinearRegression(labelCol=target, featuresCol='features', regParam=0.3)\n",
    "model = lr.fit(train) \n",
    "predictions = model.transform(test)\n",
    "trainingSummary = model.summary\n",
    "print('Model with only num features:')\n",
    "print(\"RMSE: %0.2f\" % trainingSummary.rootMeanSquaredError)\n",
    "print('MAE: %0.2f' % trainingSummary.meanAbsoluteError)\n",
    "print(\"r2: %0.2f\" % trainingSummary.r2)"
   ]
  },
  {
   "cell_type": "code",
   "execution_count": 19,
   "id": "f2330b84",
   "metadata": {},
   "outputs": [
    {
     "name": "stderr",
     "output_type": "stream",
     "text": [
      "                                                                                \r"
     ]
    },
    {
     "name": "stdout",
     "output_type": "stream",
     "text": [
      "Model with num and cat features:\n",
      "RMSE: 68475.97\n",
      "MAE: 49539.31\n",
      "r2: 0.65\n"
     ]
    }
   ],
   "source": [
    "train, test = df_housing_nc.randomSplit([.8, .2], seed=RANDOM_SEED)\n",
    "lr = LinearRegression(labelCol=target, featuresCol='features', regParam=0.3)\n",
    "model = lr.fit(train) \n",
    "predictions = model.transform(test)\n",
    "trainingSummary = model.summary\n",
    "print('Model with num and cat features:')\n",
    "print(\"RMSE: %0.2f\" % trainingSummary.rootMeanSquaredError)\n",
    "print('MAE: %0.2f' % trainingSummary.meanAbsoluteError)\n",
    "print(\"r2: %0.2f\" % trainingSummary.r2)"
   ]
  },
  {
   "cell_type": "code",
   "execution_count": 20,
   "id": "2a969740",
   "metadata": {},
   "outputs": [],
   "source": [
    "spark.stop()"
   ]
  },
  {
   "cell_type": "markdown",
   "id": "757fd103",
   "metadata": {
    "id": "757fd103"
   },
   "source": [
    "# **Results**"
   ]
  },
  {
   "cell_type": "markdown",
   "id": "eeac54d0",
   "metadata": {},
   "source": [
    "**model_1** - модель, которая обучалась только на численных признаках.\n",
    "\n",
    "**model_2** - модель, которая обучалась на численных и категориальных признаках."
   ]
  },
  {
   "cell_type": "markdown",
   "id": "da82e886",
   "metadata": {},
   "source": [
    "||model_1|model_2|\n",
    "|---|---|---|\n",
    "|**RMSE**|69387|68476|  \n",
    "|**MAE**|50593|49539|   \n",
    "|**r2**|0.64|0.65|"
   ]
  },
  {
   "cell_type": "markdown",
   "id": "0370b2f0",
   "metadata": {},
   "source": [
    "<b> Как мы видим model_1 показала себя хуже model_2 по всем метрикам. Из этого можно сделать вывод, что в рамках данной задачи, информация, которая хранится в категориальных признаках важна и на прямую влияет на качество предсказаний модели.</b>"
   ]
  }
 ],
 "metadata": {
  "ExecuteTimeLog": [
   {
    "duration": 15063,
    "start_time": "2022-04-04T06:48:26.781Z"
   },
   {
    "duration": 7969,
    "start_time": "2022-04-04T06:48:53.488Z"
   },
   {
    "duration": 15345,
    "start_time": "2022-04-04T06:53:57.523Z"
   },
   {
    "duration": 7989,
    "start_time": "2022-04-04T06:54:12.871Z"
   },
   {
    "duration": 32,
    "start_time": "2022-04-04T07:01:19.928Z"
   },
   {
    "duration": 5919,
    "start_time": "2022-04-04T07:02:06.226Z"
   },
   {
    "duration": 119,
    "start_time": "2022-04-04T07:07:31.149Z"
   },
   {
    "duration": 3,
    "start_time": "2022-04-04T07:11:23.968Z"
   },
   {
    "duration": 68,
    "start_time": "2022-04-04T07:12:05.984Z"
   },
   {
    "duration": 27,
    "start_time": "2022-04-04T07:12:14.442Z"
   },
   {
    "duration": 282,
    "start_time": "2022-04-04T07:12:54.002Z"
   },
   {
    "duration": 152,
    "start_time": "2022-04-04T07:16:47.663Z"
   },
   {
    "duration": 8,
    "start_time": "2022-04-04T07:18:57.317Z"
   },
   {
    "duration": 5,
    "start_time": "2022-04-04T07:19:25.286Z"
   },
   {
    "duration": 19,
    "start_time": "2022-04-04T07:19:29.924Z"
   },
   {
    "duration": 1482,
    "start_time": "2022-04-04T07:19:38.792Z"
   },
   {
    "duration": 211,
    "start_time": "2022-04-04T07:19:48.853Z"
   },
   {
    "duration": 536,
    "start_time": "2022-04-04T07:39:29.306Z"
   },
   {
    "duration": 160,
    "start_time": "2022-04-04T07:39:33.815Z"
   },
   {
    "duration": 212,
    "start_time": "2022-04-04T07:40:29.961Z"
   },
   {
    "duration": 5,
    "start_time": "2022-04-04T07:44:30.737Z"
   },
   {
    "duration": 56,
    "start_time": "2022-04-04T07:45:07.101Z"
   },
   {
    "duration": 15495,
    "start_time": "2022-04-04T07:46:59.667Z"
   },
   {
    "duration": 8491,
    "start_time": "2022-04-04T07:47:15.168Z"
   },
   {
    "duration": 95,
    "start_time": "2022-04-04T07:47:23.661Z"
   },
   {
    "duration": 6292,
    "start_time": "2022-04-04T07:47:23.758Z"
   },
   {
    "duration": 4,
    "start_time": "2022-04-04T07:47:30.052Z"
   },
   {
    "duration": 1823,
    "start_time": "2022-04-04T07:47:30.057Z"
   },
   {
    "duration": 291,
    "start_time": "2022-04-04T07:47:31.882Z"
   },
   {
    "duration": 168,
    "start_time": "2022-04-04T07:47:32.175Z"
   },
   {
    "duration": 145,
    "start_time": "2022-04-04T07:47:32.344Z"
   },
   {
    "duration": 0,
    "start_time": "2022-04-04T07:47:32.491Z"
   },
   {
    "duration": 43,
    "start_time": "2022-04-04T07:48:09.049Z"
   },
   {
    "duration": 19,
    "start_time": "2022-04-04T07:48:12.750Z"
   },
   {
    "duration": 9,
    "start_time": "2022-04-04T07:49:41.710Z"
   },
   {
    "duration": 13,
    "start_time": "2022-04-04T07:50:09.449Z"
   },
   {
    "duration": 6,
    "start_time": "2022-04-04T07:50:10.767Z"
   },
   {
    "duration": 15336,
    "start_time": "2022-04-04T07:52:58.646Z"
   },
   {
    "duration": 8715,
    "start_time": "2022-04-04T07:53:14.039Z"
   },
   {
    "duration": 82,
    "start_time": "2022-04-04T07:53:22.756Z"
   },
   {
    "duration": 5616,
    "start_time": "2022-04-04T07:53:22.840Z"
   },
   {
    "duration": 3,
    "start_time": "2022-04-04T07:53:28.459Z"
   },
   {
    "duration": 1510,
    "start_time": "2022-04-04T07:53:28.463Z"
   },
   {
    "duration": 278,
    "start_time": "2022-04-04T07:53:29.975Z"
   },
   {
    "duration": 114,
    "start_time": "2022-04-04T07:53:30.255Z"
   },
   {
    "duration": 96,
    "start_time": "2022-04-04T07:53:30.370Z"
   },
   {
    "duration": 83,
    "start_time": "2022-04-04T07:53:30.468Z"
   },
   {
    "duration": 86,
    "start_time": "2022-04-04T07:53:30.553Z"
   },
   {
    "duration": 635,
    "start_time": "2022-04-04T07:57:19.831Z"
   },
   {
    "duration": 258,
    "start_time": "2022-04-04T08:01:44.000Z"
   },
   {
    "duration": 150,
    "start_time": "2022-04-04T08:01:48.007Z"
   },
   {
    "duration": 15391,
    "start_time": "2022-04-04T08:01:58.552Z"
   },
   {
    "duration": 8419,
    "start_time": "2022-04-04T08:02:13.948Z"
   },
   {
    "duration": 96,
    "start_time": "2022-04-04T08:02:22.369Z"
   },
   {
    "duration": 6181,
    "start_time": "2022-04-04T08:02:22.467Z"
   },
   {
    "duration": 3,
    "start_time": "2022-04-04T08:02:28.651Z"
   },
   {
    "duration": 1697,
    "start_time": "2022-04-04T08:02:28.655Z"
   },
   {
    "duration": 305,
    "start_time": "2022-04-04T08:02:30.354Z"
   },
   {
    "duration": 104,
    "start_time": "2022-04-04T08:02:30.661Z"
   },
   {
    "duration": 89,
    "start_time": "2022-04-04T08:02:30.766Z"
   },
   {
    "duration": 92,
    "start_time": "2022-04-04T08:02:30.856Z"
   },
   {
    "duration": 788,
    "start_time": "2022-04-04T08:02:30.950Z"
   },
   {
    "duration": 1458,
    "start_time": "2022-04-04T08:02:57.632Z"
   },
   {
    "duration": 15,
    "start_time": "2022-04-04T08:04:19.046Z"
   },
   {
    "duration": 541,
    "start_time": "2022-04-04T08:04:30.693Z"
   },
   {
    "duration": 12,
    "start_time": "2022-04-04T08:04:34.065Z"
   },
   {
    "duration": 71,
    "start_time": "2022-04-04T08:05:47.396Z"
   },
   {
    "duration": 3,
    "start_time": "2022-04-04T08:06:07.516Z"
   },
   {
    "duration": 15118,
    "start_time": "2022-04-04T08:06:14.036Z"
   },
   {
    "duration": 9405,
    "start_time": "2022-04-04T08:06:29.160Z"
   },
   {
    "duration": 96,
    "start_time": "2022-04-04T08:06:38.566Z"
   },
   {
    "duration": 5888,
    "start_time": "2022-04-04T08:06:38.664Z"
   },
   {
    "duration": 3,
    "start_time": "2022-04-04T08:06:44.555Z"
   },
   {
    "duration": 1616,
    "start_time": "2022-04-04T08:06:44.559Z"
   },
   {
    "duration": 304,
    "start_time": "2022-04-04T08:06:46.237Z"
   },
   {
    "duration": 95,
    "start_time": "2022-04-04T08:06:46.544Z"
   },
   {
    "duration": 102,
    "start_time": "2022-04-04T08:06:46.641Z"
   },
   {
    "duration": 21,
    "start_time": "2022-04-04T08:06:46.745Z"
   },
   {
    "duration": 801,
    "start_time": "2022-04-04T08:06:46.768Z"
   },
   {
    "duration": 104,
    "start_time": "2022-04-04T08:06:47.571Z"
   },
   {
    "duration": 2553,
    "start_time": "2022-04-04T08:06:47.677Z"
   },
   {
    "duration": 8,
    "start_time": "2022-04-04T08:09:32.192Z"
   },
   {
    "duration": 660,
    "start_time": "2022-04-04T08:09:47.430Z"
   },
   {
    "duration": 774,
    "start_time": "2022-04-04T08:10:00.904Z"
   },
   {
    "duration": 975,
    "start_time": "2022-04-04T08:10:04.811Z"
   },
   {
    "duration": 716,
    "start_time": "2022-04-04T08:10:08.470Z"
   },
   {
    "duration": 15158,
    "start_time": "2022-04-04T09:11:00.819Z"
   },
   {
    "duration": 8775,
    "start_time": "2022-04-04T09:11:15.982Z"
   },
   {
    "duration": 94,
    "start_time": "2022-04-04T09:11:24.759Z"
   },
   {
    "duration": 5819,
    "start_time": "2022-04-04T09:11:24.855Z"
   },
   {
    "duration": 62,
    "start_time": "2022-04-04T09:11:30.676Z"
   },
   {
    "duration": 1605,
    "start_time": "2022-04-04T09:11:30.740Z"
   },
   {
    "duration": 310,
    "start_time": "2022-04-04T09:11:32.347Z"
   },
   {
    "duration": 104,
    "start_time": "2022-04-04T09:11:32.659Z"
   },
   {
    "duration": 96,
    "start_time": "2022-04-04T09:11:32.765Z"
   },
   {
    "duration": 85,
    "start_time": "2022-04-04T09:11:32.863Z"
   },
   {
    "duration": 463,
    "start_time": "2022-04-04T09:11:32.950Z"
   },
   {
    "duration": 0,
    "start_time": "2022-04-04T09:11:33.415Z"
   },
   {
    "duration": 0,
    "start_time": "2022-04-04T09:11:33.416Z"
   },
   {
    "duration": 176,
    "start_time": "2022-04-04T09:12:18.835Z"
   },
   {
    "duration": 15017,
    "start_time": "2022-04-04T09:14:29.141Z"
   },
   {
    "duration": 8718,
    "start_time": "2022-04-04T09:14:44.161Z"
   },
   {
    "duration": 85,
    "start_time": "2022-04-04T09:14:52.881Z"
   },
   {
    "duration": 5986,
    "start_time": "2022-04-04T09:14:52.969Z"
   },
   {
    "duration": 3,
    "start_time": "2022-04-04T09:14:58.957Z"
   },
   {
    "duration": 2475,
    "start_time": "2022-04-04T09:14:58.963Z"
   },
   {
    "duration": 310,
    "start_time": "2022-04-04T09:15:01.440Z"
   },
   {
    "duration": 96,
    "start_time": "2022-04-04T09:15:01.752Z"
   },
   {
    "duration": 93,
    "start_time": "2022-04-04T09:15:01.850Z"
   },
   {
    "duration": 93,
    "start_time": "2022-04-04T09:15:01.946Z"
   },
   {
    "duration": 101,
    "start_time": "2022-04-04T09:15:02.041Z"
   },
   {
    "duration": 25,
    "start_time": "2022-04-04T09:15:02.144Z"
   },
   {
    "duration": 114,
    "start_time": "2022-04-04T09:15:02.170Z"
   },
   {
    "duration": 165,
    "start_time": "2022-04-04T09:15:46.834Z"
   },
   {
    "duration": 15276,
    "start_time": "2022-04-04T09:15:54.367Z"
   },
   {
    "duration": 8425,
    "start_time": "2022-04-04T09:16:09.646Z"
   },
   {
    "duration": 93,
    "start_time": "2022-04-04T09:16:18.073Z"
   },
   {
    "duration": 6192,
    "start_time": "2022-04-04T09:16:18.169Z"
   },
   {
    "duration": 77,
    "start_time": "2022-04-04T09:16:24.363Z"
   },
   {
    "duration": 1622,
    "start_time": "2022-04-04T09:16:24.442Z"
   },
   {
    "duration": 287,
    "start_time": "2022-04-04T09:16:26.066Z"
   },
   {
    "duration": 96,
    "start_time": "2022-04-04T09:16:26.355Z"
   },
   {
    "duration": 103,
    "start_time": "2022-04-04T09:16:26.453Z"
   },
   {
    "duration": 94,
    "start_time": "2022-04-04T09:16:26.559Z"
   },
   {
    "duration": 474,
    "start_time": "2022-04-04T09:16:26.656Z"
   },
   {
    "duration": 0,
    "start_time": "2022-04-04T09:16:27.131Z"
   },
   {
    "duration": 0,
    "start_time": "2022-04-04T09:16:27.133Z"
   },
   {
    "duration": 184,
    "start_time": "2022-04-04T09:16:37.948Z"
   },
   {
    "duration": 15101,
    "start_time": "2022-04-04T09:16:42.766Z"
   },
   {
    "duration": 8275,
    "start_time": "2022-04-04T09:16:57.872Z"
   },
   {
    "duration": 93,
    "start_time": "2022-04-04T09:17:06.148Z"
   },
   {
    "duration": 5912,
    "start_time": "2022-04-04T09:17:06.243Z"
   },
   {
    "duration": 4,
    "start_time": "2022-04-04T09:17:12.157Z"
   },
   {
    "duration": 1588,
    "start_time": "2022-04-04T09:17:12.162Z"
   },
   {
    "duration": 314,
    "start_time": "2022-04-04T09:17:13.752Z"
   },
   {
    "duration": 104,
    "start_time": "2022-04-04T09:17:14.068Z"
   },
   {
    "duration": 96,
    "start_time": "2022-04-04T09:17:14.174Z"
   },
   {
    "duration": 82,
    "start_time": "2022-04-04T09:17:14.272Z"
   },
   {
    "duration": 101,
    "start_time": "2022-04-04T09:17:14.355Z"
   },
   {
    "duration": 88,
    "start_time": "2022-04-04T09:17:14.458Z"
   },
   {
    "duration": 128,
    "start_time": "2022-04-04T09:17:14.548Z"
   },
   {
    "duration": 1984,
    "start_time": "2022-04-04T09:17:25.862Z"
   },
   {
    "duration": 421,
    "start_time": "2022-04-04T09:17:40.632Z"
   },
   {
    "duration": 719,
    "start_time": "2022-04-04T09:19:20.367Z"
   },
   {
    "duration": 14850,
    "start_time": "2022-04-04T09:19:25.314Z"
   },
   {
    "duration": 8984,
    "start_time": "2022-04-04T09:19:40.166Z"
   },
   {
    "duration": 86,
    "start_time": "2022-04-04T09:19:49.152Z"
   },
   {
    "duration": 5931,
    "start_time": "2022-04-04T09:19:49.240Z"
   },
   {
    "duration": 3,
    "start_time": "2022-04-04T09:19:55.173Z"
   },
   {
    "duration": 1895,
    "start_time": "2022-04-04T09:19:55.177Z"
   },
   {
    "duration": 391,
    "start_time": "2022-04-04T09:19:57.074Z"
   },
   {
    "duration": 104,
    "start_time": "2022-04-04T09:19:57.467Z"
   },
   {
    "duration": 169,
    "start_time": "2022-04-04T09:19:57.574Z"
   },
   {
    "duration": 92,
    "start_time": "2022-04-04T09:19:57.747Z"
   },
   {
    "duration": 99,
    "start_time": "2022-04-04T09:19:57.841Z"
   },
   {
    "duration": 805,
    "start_time": "2022-04-04T09:19:57.943Z"
   },
   {
    "duration": 88,
    "start_time": "2022-04-04T09:19:58.750Z"
   },
   {
    "duration": 2358,
    "start_time": "2022-04-04T09:19:58.840Z"
   },
   {
    "duration": 15430,
    "start_time": "2022-04-04T09:22:31.412Z"
   },
   {
    "duration": 8608,
    "start_time": "2022-04-04T09:22:46.848Z"
   },
   {
    "duration": 105,
    "start_time": "2022-04-04T09:22:55.459Z"
   },
   {
    "duration": 5907,
    "start_time": "2022-04-04T09:22:55.566Z"
   },
   {
    "duration": 64,
    "start_time": "2022-04-04T09:23:01.476Z"
   },
   {
    "duration": 1697,
    "start_time": "2022-04-04T09:23:01.541Z"
   },
   {
    "duration": 247,
    "start_time": "2022-04-04T09:23:03.240Z"
   },
   {
    "duration": 41,
    "start_time": "2022-04-04T09:23:03.538Z"
   },
   {
    "duration": 157,
    "start_time": "2022-04-04T09:23:03.581Z"
   },
   {
    "duration": 14,
    "start_time": "2022-04-04T09:23:03.739Z"
   },
   {
    "duration": 104,
    "start_time": "2022-04-04T09:23:03.754Z"
   },
   {
    "duration": 513,
    "start_time": "2022-04-04T09:23:03.860Z"
   },
   {
    "duration": 22,
    "start_time": "2022-04-04T09:23:04.437Z"
   },
   {
    "duration": 1783,
    "start_time": "2022-04-04T09:23:04.463Z"
   },
   {
    "duration": 151,
    "start_time": "2022-04-04T09:24:13.438Z"
   },
   {
    "duration": 3,
    "start_time": "2022-04-04T09:24:30.131Z"
   },
   {
    "duration": 15409,
    "start_time": "2022-04-04T09:24:52.360Z"
   },
   {
    "duration": 8376,
    "start_time": "2022-04-04T09:25:07.773Z"
   },
   {
    "duration": 94,
    "start_time": "2022-04-04T09:25:16.150Z"
   },
   {
    "duration": 5914,
    "start_time": "2022-04-04T09:25:16.246Z"
   },
   {
    "duration": 3,
    "start_time": "2022-04-04T09:25:22.163Z"
   },
   {
    "duration": 1671,
    "start_time": "2022-04-04T09:25:22.168Z"
   },
   {
    "duration": 239,
    "start_time": "2022-04-04T09:25:23.841Z"
   },
   {
    "duration": 52,
    "start_time": "2022-04-04T09:25:24.139Z"
   },
   {
    "duration": 109,
    "start_time": "2022-04-04T09:25:24.238Z"
   },
   {
    "duration": 13,
    "start_time": "2022-04-04T09:25:24.350Z"
   },
   {
    "duration": 91,
    "start_time": "2022-04-04T09:25:24.365Z"
   },
   {
    "duration": 680,
    "start_time": "2022-04-04T09:25:24.458Z"
   },
   {
    "duration": 30,
    "start_time": "2022-04-04T09:25:25.140Z"
   },
   {
    "duration": 2137,
    "start_time": "2022-04-04T09:25:25.173Z"
   },
   {
    "duration": 13,
    "start_time": "2022-04-04T09:25:53.125Z"
   },
   {
    "duration": 24,
    "start_time": "2022-04-04T09:26:00.114Z"
   },
   {
    "duration": 10,
    "start_time": "2022-04-04T09:26:06.667Z"
   },
   {
    "duration": 23,
    "start_time": "2022-04-04T09:26:09.713Z"
   },
   {
    "duration": 8,
    "start_time": "2022-04-04T09:26:12.871Z"
   },
   {
    "duration": 144,
    "start_time": "2022-04-04T09:26:26.254Z"
   },
   {
    "duration": 15297,
    "start_time": "2022-04-04T09:26:30.668Z"
   },
   {
    "duration": 8096,
    "start_time": "2022-04-04T09:26:45.969Z"
   },
   {
    "duration": 97,
    "start_time": "2022-04-04T09:26:54.066Z"
   },
   {
    "duration": 5895,
    "start_time": "2022-04-04T09:26:54.165Z"
   },
   {
    "duration": 4,
    "start_time": "2022-04-04T09:27:00.063Z"
   },
   {
    "duration": 1599,
    "start_time": "2022-04-04T09:27:00.068Z"
   },
   {
    "duration": 306,
    "start_time": "2022-04-04T09:27:01.669Z"
   },
   {
    "duration": 108,
    "start_time": "2022-04-04T09:27:02.037Z"
   },
   {
    "duration": 103,
    "start_time": "2022-04-04T09:27:02.147Z"
   },
   {
    "duration": 87,
    "start_time": "2022-04-04T09:27:02.252Z"
   },
   {
    "duration": 28,
    "start_time": "2022-04-04T09:27:02.341Z"
   },
   {
    "duration": 819,
    "start_time": "2022-04-04T09:27:02.439Z"
   },
   {
    "duration": 86,
    "start_time": "2022-04-04T09:27:03.260Z"
   },
   {
    "duration": 2053,
    "start_time": "2022-04-04T09:27:03.349Z"
   },
   {
    "duration": 7,
    "start_time": "2022-04-04T09:28:17.425Z"
   },
   {
    "duration": 345,
    "start_time": "2022-04-04T09:28:21.410Z"
   },
   {
    "duration": 7,
    "start_time": "2022-04-04T09:28:29.692Z"
   },
   {
    "duration": 162,
    "start_time": "2022-04-04T09:28:41.211Z"
   },
   {
    "duration": 12,
    "start_time": "2022-04-04T09:29:27.701Z"
   },
   {
    "duration": 591,
    "start_time": "2022-04-04T09:29:54.795Z"
   },
   {
    "duration": 665,
    "start_time": "2022-04-04T09:30:11.093Z"
   },
   {
    "duration": 514,
    "start_time": "2022-04-04T09:32:31.860Z"
   },
   {
    "duration": 3396,
    "start_time": "2022-04-04T09:34:28.496Z"
   },
   {
    "duration": 15362,
    "start_time": "2022-04-04T09:34:54.796Z"
   },
   {
    "duration": 8475,
    "start_time": "2022-04-04T09:35:10.163Z"
   },
   {
    "duration": 32,
    "start_time": "2022-04-04T09:35:18.640Z"
   },
   {
    "duration": 6171,
    "start_time": "2022-04-04T09:35:18.674Z"
   },
   {
    "duration": 3,
    "start_time": "2022-04-04T09:35:24.848Z"
   },
   {
    "duration": 1698,
    "start_time": "2022-04-04T09:35:24.852Z"
   },
   {
    "duration": 313,
    "start_time": "2022-04-04T09:35:26.552Z"
   },
   {
    "duration": 4566,
    "start_time": "2022-04-04T09:35:26.867Z"
   },
   {
    "duration": 0,
    "start_time": "2022-04-04T09:35:31.435Z"
   },
   {
    "duration": 0,
    "start_time": "2022-04-04T09:35:31.436Z"
   },
   {
    "duration": 0,
    "start_time": "2022-04-04T09:35:31.437Z"
   },
   {
    "duration": 0,
    "start_time": "2022-04-04T09:35:31.439Z"
   },
   {
    "duration": 0,
    "start_time": "2022-04-04T09:35:31.440Z"
   },
   {
    "duration": 0,
    "start_time": "2022-04-04T09:35:31.441Z"
   },
   {
    "duration": 0,
    "start_time": "2022-04-04T09:35:31.442Z"
   },
   {
    "duration": 197,
    "start_time": "2022-04-04T09:36:11.298Z"
   },
   {
    "duration": 9,
    "start_time": "2022-04-04T09:39:14.135Z"
   },
   {
    "duration": 955,
    "start_time": "2022-04-04T09:39:31.316Z"
   },
   {
    "duration": 15450,
    "start_time": "2022-04-04T09:39:44.217Z"
   },
   {
    "duration": 8696,
    "start_time": "2022-04-04T09:39:59.672Z"
   },
   {
    "duration": 91,
    "start_time": "2022-04-04T09:40:08.370Z"
   },
   {
    "duration": 6292,
    "start_time": "2022-04-04T09:40:08.463Z"
   },
   {
    "duration": 2087,
    "start_time": "2022-04-04T09:40:14.758Z"
   },
   {
    "duration": 3,
    "start_time": "2022-04-04T09:40:16.846Z"
   },
   {
    "duration": 1605,
    "start_time": "2022-04-04T09:40:16.851Z"
   },
   {
    "duration": 239,
    "start_time": "2022-04-04T09:40:18.458Z"
   },
   {
    "duration": 43,
    "start_time": "2022-04-04T09:40:18.738Z"
   },
   {
    "duration": 87,
    "start_time": "2022-04-04T09:40:18.783Z"
   },
   {
    "duration": 76,
    "start_time": "2022-04-04T09:40:18.871Z"
   },
   {
    "duration": 25,
    "start_time": "2022-04-04T09:40:18.949Z"
   },
   {
    "duration": 591,
    "start_time": "2022-04-04T09:40:18.976Z"
   },
   {
    "duration": 24,
    "start_time": "2022-04-04T09:40:19.637Z"
   },
   {
    "duration": 2374,
    "start_time": "2022-04-04T09:40:19.663Z"
   },
   {
    "duration": 4253,
    "start_time": "2022-04-04T09:42:51.039Z"
   },
   {
    "duration": 3617,
    "start_time": "2022-04-04T09:43:43.006Z"
   },
   {
    "duration": 4,
    "start_time": "2022-04-04T09:44:24.102Z"
   },
   {
    "duration": 13,
    "start_time": "2022-04-04T09:44:26.614Z"
   },
   {
    "duration": 2892,
    "start_time": "2022-04-04T09:44:49.399Z"
   },
   {
    "duration": 8,
    "start_time": "2022-04-04T09:45:14.830Z"
   },
   {
    "duration": 447,
    "start_time": "2022-04-04T09:45:24.276Z"
   },
   {
    "duration": 348,
    "start_time": "2022-04-04T09:45:32.321Z"
   },
   {
    "duration": 598,
    "start_time": "2022-04-04T09:46:07.847Z"
   },
   {
    "duration": 15117,
    "start_time": "2022-04-04T09:46:15.232Z"
   },
   {
    "duration": 8099,
    "start_time": "2022-04-04T09:46:30.352Z"
   },
   {
    "duration": 88,
    "start_time": "2022-04-04T09:46:38.453Z"
   },
   {
    "duration": 6517,
    "start_time": "2022-04-04T09:46:38.543Z"
   },
   {
    "duration": 824,
    "start_time": "2022-04-04T09:46:45.062Z"
   },
   {
    "duration": 0,
    "start_time": "2022-04-04T09:46:45.938Z"
   },
   {
    "duration": 0,
    "start_time": "2022-04-04T09:46:45.940Z"
   },
   {
    "duration": 0,
    "start_time": "2022-04-04T09:46:45.941Z"
   },
   {
    "duration": 0,
    "start_time": "2022-04-04T09:46:45.943Z"
   },
   {
    "duration": 0,
    "start_time": "2022-04-04T09:46:45.944Z"
   },
   {
    "duration": 1,
    "start_time": "2022-04-04T09:46:45.945Z"
   },
   {
    "duration": 0,
    "start_time": "2022-04-04T09:46:45.947Z"
   },
   {
    "duration": 0,
    "start_time": "2022-04-04T09:46:45.948Z"
   },
   {
    "duration": 0,
    "start_time": "2022-04-04T09:46:45.950Z"
   },
   {
    "duration": 0,
    "start_time": "2022-04-04T09:46:45.951Z"
   },
   {
    "duration": 419,
    "start_time": "2022-04-04T09:47:52.852Z"
   },
   {
    "duration": 1672,
    "start_time": "2022-04-04T09:48:36.700Z"
   },
   {
    "duration": 1043,
    "start_time": "2022-04-04T09:48:51.126Z"
   },
   {
    "duration": 35,
    "start_time": "2022-04-04T09:51:29.392Z"
   },
   {
    "duration": 1173,
    "start_time": "2022-04-04T09:51:32.496Z"
   },
   {
    "duration": 15139,
    "start_time": "2022-04-04T09:51:41.705Z"
   },
   {
    "duration": 8096,
    "start_time": "2022-04-04T09:51:56.846Z"
   },
   {
    "duration": 30,
    "start_time": "2022-04-04T09:52:04.944Z"
   },
   {
    "duration": 3201,
    "start_time": "2022-04-04T09:52:05.038Z"
   },
   {
    "duration": 123,
    "start_time": "2022-04-04T09:52:08.241Z"
   },
   {
    "duration": 3,
    "start_time": "2022-04-04T09:52:08.366Z"
   },
   {
    "duration": 1880,
    "start_time": "2022-04-04T09:52:08.371Z"
   },
   {
    "duration": 285,
    "start_time": "2022-04-04T09:52:10.253Z"
   },
   {
    "duration": 103,
    "start_time": "2022-04-04T09:52:10.540Z"
   },
   {
    "duration": 96,
    "start_time": "2022-04-04T09:52:10.646Z"
   },
   {
    "duration": 10,
    "start_time": "2022-04-04T09:52:10.744Z"
   },
   {
    "duration": 82,
    "start_time": "2022-04-04T09:52:10.756Z"
   },
   {
    "duration": 639,
    "start_time": "2022-04-04T09:52:10.840Z"
   },
   {
    "duration": 24,
    "start_time": "2022-04-04T09:52:11.539Z"
   },
   {
    "duration": 6181,
    "start_time": "2022-04-04T09:52:11.565Z"
   },
   {
    "duration": 12,
    "start_time": "2022-04-04T09:53:01.558Z"
   },
   {
    "duration": 2436,
    "start_time": "2022-04-04T09:53:02.825Z"
   },
   {
    "duration": 2168,
    "start_time": "2022-04-04T09:53:26.187Z"
   },
   {
    "duration": 88,
    "start_time": "2022-04-04T09:54:37.502Z"
   },
   {
    "duration": 24,
    "start_time": "2022-04-04T09:54:40.170Z"
   },
   {
    "duration": 8,
    "start_time": "2022-04-04T09:55:08.949Z"
   },
   {
    "duration": 8,
    "start_time": "2022-04-04T09:55:19.443Z"
   },
   {
    "duration": 7,
    "start_time": "2022-04-04T09:55:25.703Z"
   },
   {
    "duration": 9,
    "start_time": "2022-04-04T09:55:31.214Z"
   },
   {
    "duration": 6,
    "start_time": "2022-04-04T09:59:39.723Z"
   },
   {
    "duration": 118,
    "start_time": "2022-04-04T10:01:01.778Z"
   },
   {
    "duration": 9,
    "start_time": "2022-04-04T10:01:07.076Z"
   },
   {
    "duration": 473,
    "start_time": "2022-04-04T12:48:09.778Z"
   },
   {
    "duration": 0,
    "start_time": "2022-04-04T12:48:10.253Z"
   },
   {
    "duration": 0,
    "start_time": "2022-04-04T12:48:10.256Z"
   },
   {
    "duration": 0,
    "start_time": "2022-04-04T12:48:10.257Z"
   },
   {
    "duration": 0,
    "start_time": "2022-04-04T12:48:10.258Z"
   },
   {
    "duration": 0,
    "start_time": "2022-04-04T12:48:10.259Z"
   },
   {
    "duration": 0,
    "start_time": "2022-04-04T12:48:10.260Z"
   },
   {
    "duration": 0,
    "start_time": "2022-04-04T12:48:10.261Z"
   },
   {
    "duration": 0,
    "start_time": "2022-04-04T12:48:10.262Z"
   },
   {
    "duration": 0,
    "start_time": "2022-04-04T12:48:10.263Z"
   },
   {
    "duration": 0,
    "start_time": "2022-04-04T12:48:10.264Z"
   },
   {
    "duration": 0,
    "start_time": "2022-04-04T12:48:10.266Z"
   },
   {
    "duration": 0,
    "start_time": "2022-04-04T12:48:10.266Z"
   },
   {
    "duration": 0,
    "start_time": "2022-04-04T12:48:10.267Z"
   },
   {
    "duration": 0,
    "start_time": "2022-04-04T12:48:10.268Z"
   },
   {
    "duration": 0,
    "start_time": "2022-04-04T12:48:10.269Z"
   },
   {
    "duration": 0,
    "start_time": "2022-04-04T12:48:10.270Z"
   },
   {
    "duration": 9,
    "start_time": "2022-04-04T12:48:47.054Z"
   },
   {
    "duration": 19000,
    "start_time": "2022-04-04T12:50:13.437Z"
   },
   {
    "duration": 8991,
    "start_time": "2022-04-04T12:50:32.442Z"
   },
   {
    "duration": 38,
    "start_time": "2022-04-04T12:50:41.435Z"
   },
   {
    "duration": 79,
    "start_time": "2022-04-04T12:50:41.531Z"
   },
   {
    "duration": 0,
    "start_time": "2022-04-04T12:50:41.613Z"
   },
   {
    "duration": 0,
    "start_time": "2022-04-04T12:50:41.614Z"
   },
   {
    "duration": 0,
    "start_time": "2022-04-04T12:50:41.632Z"
   },
   {
    "duration": 0,
    "start_time": "2022-04-04T12:50:41.633Z"
   },
   {
    "duration": 0,
    "start_time": "2022-04-04T12:50:41.635Z"
   },
   {
    "duration": 0,
    "start_time": "2022-04-04T12:50:41.636Z"
   },
   {
    "duration": 0,
    "start_time": "2022-04-04T12:50:41.637Z"
   },
   {
    "duration": 0,
    "start_time": "2022-04-04T12:50:41.638Z"
   },
   {
    "duration": 0,
    "start_time": "2022-04-04T12:50:41.639Z"
   },
   {
    "duration": 0,
    "start_time": "2022-04-04T12:50:41.640Z"
   },
   {
    "duration": 0,
    "start_time": "2022-04-04T12:50:41.641Z"
   },
   {
    "duration": 0,
    "start_time": "2022-04-04T12:50:41.642Z"
   },
   {
    "duration": 0,
    "start_time": "2022-04-04T12:50:41.643Z"
   },
   {
    "duration": 13,
    "start_time": "2022-04-04T12:51:03.986Z"
   },
   {
    "duration": 14,
    "start_time": "2022-04-04T12:51:26.750Z"
   },
   {
    "duration": 44,
    "start_time": "2022-04-04T12:51:33.065Z"
   },
   {
    "duration": 3105,
    "start_time": "2022-04-04T12:51:38.748Z"
   },
   {
    "duration": 15570,
    "start_time": "2022-04-04T12:51:47.421Z"
   },
   {
    "duration": 8502,
    "start_time": "2022-04-04T12:52:03.033Z"
   },
   {
    "duration": 95,
    "start_time": "2022-04-04T12:52:11.537Z"
   },
   {
    "duration": 3399,
    "start_time": "2022-04-04T12:52:11.634Z"
   },
   {
    "duration": 129,
    "start_time": "2022-04-04T12:52:15.036Z"
   },
   {
    "duration": 3,
    "start_time": "2022-04-04T12:52:15.232Z"
   },
   {
    "duration": 1812,
    "start_time": "2022-04-04T12:52:15.237Z"
   },
   {
    "duration": 315,
    "start_time": "2022-04-04T12:52:17.051Z"
   },
   {
    "duration": 99,
    "start_time": "2022-04-04T12:52:17.368Z"
   },
   {
    "duration": 94,
    "start_time": "2022-04-04T12:52:17.469Z"
   },
   {
    "duration": 71,
    "start_time": "2022-04-04T12:52:17.565Z"
   },
   {
    "duration": 27,
    "start_time": "2022-04-04T12:52:17.637Z"
   },
   {
    "duration": 778,
    "start_time": "2022-04-04T12:52:17.666Z"
   },
   {
    "duration": 90,
    "start_time": "2022-04-04T12:52:18.448Z"
   },
   {
    "duration": 6100,
    "start_time": "2022-04-04T12:52:18.541Z"
   },
   {
    "duration": 90,
    "start_time": "2022-04-04T12:52:24.643Z"
   },
   {
    "duration": 8,
    "start_time": "2022-04-04T12:52:24.735Z"
   },
   {
    "duration": 94,
    "start_time": "2022-04-04T12:54:58.997Z"
   },
   {
    "duration": 10,
    "start_time": "2022-04-04T12:57:29.204Z"
   },
   {
    "duration": 12,
    "start_time": "2022-04-04T12:58:28.773Z"
   },
   {
    "duration": 15722,
    "start_time": "2022-04-04T12:58:37.835Z"
   },
   {
    "duration": 8904,
    "start_time": "2022-04-04T12:58:53.560Z"
   },
   {
    "duration": 96,
    "start_time": "2022-04-04T12:59:02.467Z"
   },
   {
    "duration": 3182,
    "start_time": "2022-04-04T12:59:02.565Z"
   },
   {
    "duration": 112,
    "start_time": "2022-04-04T12:59:05.749Z"
   },
   {
    "duration": 3,
    "start_time": "2022-04-04T12:59:05.863Z"
   },
   {
    "duration": 1651,
    "start_time": "2022-04-04T12:59:05.932Z"
   },
   {
    "duration": 225,
    "start_time": "2022-04-04T12:59:07.632Z"
   },
   {
    "duration": 108,
    "start_time": "2022-04-04T12:59:07.859Z"
   },
   {
    "duration": 91,
    "start_time": "2022-04-04T12:59:07.970Z"
   },
   {
    "duration": 11,
    "start_time": "2022-04-04T12:59:08.064Z"
   },
   {
    "duration": 111,
    "start_time": "2022-04-04T12:59:08.133Z"
   },
   {
    "duration": 0,
    "start_time": "2022-04-04T12:59:08.245Z"
   },
   {
    "duration": 0,
    "start_time": "2022-04-04T12:59:08.247Z"
   },
   {
    "duration": 0,
    "start_time": "2022-04-04T12:59:08.248Z"
   },
   {
    "duration": 0,
    "start_time": "2022-04-04T12:59:08.249Z"
   },
   {
    "duration": 0,
    "start_time": "2022-04-04T12:59:08.250Z"
   },
   {
    "duration": 0,
    "start_time": "2022-04-04T12:59:08.251Z"
   },
   {
    "duration": 0,
    "start_time": "2022-04-04T12:59:08.252Z"
   },
   {
    "duration": 0,
    "start_time": "2022-04-04T12:59:08.253Z"
   },
   {
    "duration": 53,
    "start_time": "2022-04-04T12:59:54.203Z"
   },
   {
    "duration": 8,
    "start_time": "2022-04-04T12:59:56.942Z"
   },
   {
    "duration": 776,
    "start_time": "2022-04-04T13:00:12.357Z"
   },
   {
    "duration": 15707,
    "start_time": "2022-04-04T13:00:22.725Z"
   },
   {
    "duration": 8599,
    "start_time": "2022-04-04T13:00:38.434Z"
   },
   {
    "duration": 32,
    "start_time": "2022-04-04T13:00:47.035Z"
   },
   {
    "duration": 3382,
    "start_time": "2022-04-04T13:00:47.069Z"
   },
   {
    "duration": 110,
    "start_time": "2022-04-04T13:00:50.453Z"
   },
   {
    "duration": 4,
    "start_time": "2022-04-04T13:00:50.631Z"
   },
   {
    "duration": 1826,
    "start_time": "2022-04-04T13:00:50.637Z"
   },
   {
    "duration": 291,
    "start_time": "2022-04-04T13:00:52.465Z"
   },
   {
    "duration": 103,
    "start_time": "2022-04-04T13:00:52.758Z"
   },
   {
    "duration": 99,
    "start_time": "2022-04-04T13:00:52.864Z"
   },
   {
    "duration": 71,
    "start_time": "2022-04-04T13:00:52.965Z"
   },
   {
    "duration": 113,
    "start_time": "2022-04-04T13:00:53.038Z"
   },
   {
    "duration": 705,
    "start_time": "2022-04-04T13:00:53.153Z"
   },
   {
    "duration": 187,
    "start_time": "2022-04-04T13:00:53.860Z"
   },
   {
    "duration": 0,
    "start_time": "2022-04-04T13:00:54.048Z"
   },
   {
    "duration": 0,
    "start_time": "2022-04-04T13:00:54.050Z"
   },
   {
    "duration": 0,
    "start_time": "2022-04-04T13:00:54.051Z"
   },
   {
    "duration": 0,
    "start_time": "2022-04-04T13:00:54.052Z"
   },
   {
    "duration": 0,
    "start_time": "2022-04-04T13:00:54.053Z"
   },
   {
    "duration": 0,
    "start_time": "2022-04-04T13:00:54.054Z"
   },
   {
    "duration": 2,
    "start_time": "2022-04-04T13:00:59.420Z"
   },
   {
    "duration": 9541,
    "start_time": "2022-04-04T13:01:00.591Z"
   },
   {
    "duration": 7,
    "start_time": "2022-04-04T13:08:43.737Z"
   },
   {
    "duration": 7,
    "start_time": "2022-04-04T13:08:46.688Z"
   },
   {
    "duration": 7,
    "start_time": "2022-04-04T13:08:49.825Z"
   },
   {
    "duration": 178,
    "start_time": "2022-04-04T13:08:55.108Z"
   },
   {
    "duration": 3,
    "start_time": "2022-04-04T13:08:57.367Z"
   },
   {
    "duration": 15812,
    "start_time": "2022-04-04T13:15:19.154Z"
   },
   {
    "duration": 8361,
    "start_time": "2022-04-04T13:15:34.971Z"
   },
   {
    "duration": 33,
    "start_time": "2022-04-04T13:15:43.334Z"
   },
   {
    "duration": 3393,
    "start_time": "2022-04-04T13:15:43.369Z"
   },
   {
    "duration": 171,
    "start_time": "2022-04-04T13:15:46.764Z"
   },
   {
    "duration": 3,
    "start_time": "2022-04-04T13:15:46.937Z"
   },
   {
    "duration": 1811,
    "start_time": "2022-04-04T13:15:46.942Z"
   },
   {
    "duration": 297,
    "start_time": "2022-04-04T13:15:48.756Z"
   },
   {
    "duration": 117,
    "start_time": "2022-04-04T13:15:49.055Z"
   },
   {
    "duration": 79,
    "start_time": "2022-04-04T13:15:49.175Z"
   },
   {
    "duration": 11,
    "start_time": "2022-04-04T13:15:49.256Z"
   },
   {
    "duration": 164,
    "start_time": "2022-04-04T13:15:49.269Z"
   },
   {
    "duration": 726,
    "start_time": "2022-04-04T13:15:49.435Z"
   },
   {
    "duration": 3,
    "start_time": "2022-04-04T13:15:50.164Z"
   },
   {
    "duration": 10007,
    "start_time": "2022-04-04T13:15:50.232Z"
   },
   {
    "duration": 23015,
    "start_time": "2022-04-05T14:22:44.076Z"
   },
   {
    "duration": 11781,
    "start_time": "2022-04-05T14:23:07.095Z"
   },
   {
    "duration": 639,
    "start_time": "2022-04-05T14:29:56.568Z"
   },
   {
    "duration": 330,
    "start_time": "2022-04-05T14:30:20.252Z"
   },
   {
    "duration": 1305,
    "start_time": "2022-04-05T14:35:24.888Z"
   },
   {
    "duration": 1159,
    "start_time": "2022-04-05T14:36:03.632Z"
   },
   {
    "duration": 694,
    "start_time": "2022-04-05T14:36:37.860Z"
   },
   {
    "duration": 7,
    "start_time": "2022-04-05T14:36:56.316Z"
   },
   {
    "duration": 18758,
    "start_time": "2022-04-05T14:52:27.955Z"
   },
   {
    "duration": 11683,
    "start_time": "2022-04-05T14:52:46.716Z"
   },
   {
    "duration": 102,
    "start_time": "2022-04-05T14:52:58.402Z"
   },
   {
    "duration": 5000,
    "start_time": "2022-04-05T14:52:58.508Z"
   },
   {
    "duration": 305,
    "start_time": "2022-04-05T14:53:03.567Z"
   },
   {
    "duration": 5,
    "start_time": "2022-04-05T14:53:03.875Z"
   },
   {
    "duration": 2700,
    "start_time": "2022-04-05T14:53:03.882Z"
   },
   {
    "duration": 399,
    "start_time": "2022-04-05T14:53:06.584Z"
   },
   {
    "duration": 196,
    "start_time": "2022-04-05T14:53:06.986Z"
   },
   {
    "duration": 187,
    "start_time": "2022-04-05T14:53:07.184Z"
   },
   {
    "duration": 13,
    "start_time": "2022-04-05T14:53:07.373Z"
   },
   {
    "duration": 1208,
    "start_time": "2022-04-05T14:53:07.389Z"
   },
   {
    "duration": 59,
    "start_time": "2022-04-05T14:54:37.445Z"
   },
   {
    "duration": 993,
    "start_time": "2022-04-05T14:54:43.876Z"
   },
   {
    "duration": 504,
    "start_time": "2022-04-05T14:55:36.904Z"
   },
   {
    "duration": 583,
    "start_time": "2022-04-05T14:55:41.684Z"
   },
   {
    "duration": 683,
    "start_time": "2022-04-05T14:55:51.201Z"
   },
   {
    "duration": 18290,
    "start_time": "2022-04-05T15:11:03.635Z"
   },
   {
    "duration": 11639,
    "start_time": "2022-04-05T15:11:21.928Z"
   },
   {
    "duration": 101,
    "start_time": "2022-04-05T15:11:33.571Z"
   },
   {
    "duration": 5014,
    "start_time": "2022-04-05T15:11:33.675Z"
   },
   {
    "duration": 200,
    "start_time": "2022-04-05T15:11:38.691Z"
   },
   {
    "duration": 73,
    "start_time": "2022-04-05T15:11:38.894Z"
   },
   {
    "duration": 2429,
    "start_time": "2022-04-05T15:11:38.969Z"
   },
   {
    "duration": 393,
    "start_time": "2022-04-05T15:11:41.400Z"
   },
   {
    "duration": 171,
    "start_time": "2022-04-05T15:11:41.796Z"
   },
   {
    "duration": 113,
    "start_time": "2022-04-05T15:11:41.971Z"
   },
   {
    "duration": 78,
    "start_time": "2022-04-05T15:11:42.090Z"
   },
   {
    "duration": 118,
    "start_time": "2022-04-05T15:11:42.170Z"
   },
   {
    "duration": 1004,
    "start_time": "2022-04-05T15:11:42.291Z"
   },
   {
    "duration": 10,
    "start_time": "2022-04-05T17:12:45.690Z"
   },
   {
    "duration": 19070,
    "start_time": "2022-04-05T17:19:05.007Z"
   },
   {
    "duration": 18066,
    "start_time": "2022-04-05T17:26:35.145Z"
   },
   {
    "duration": 7,
    "start_time": "2022-04-05T17:26:53.215Z"
   },
   {
    "duration": 11793,
    "start_time": "2022-04-05T17:26:53.225Z"
   },
   {
    "duration": 163,
    "start_time": "2022-04-05T17:27:05.021Z"
   },
   {
    "duration": 4998,
    "start_time": "2022-04-05T17:27:05.186Z"
   },
   {
    "duration": 211,
    "start_time": "2022-04-05T17:27:10.187Z"
   },
   {
    "duration": 81,
    "start_time": "2022-04-05T17:27:10.401Z"
   },
   {
    "duration": 2207,
    "start_time": "2022-04-05T17:27:10.485Z"
   },
   {
    "duration": 489,
    "start_time": "2022-04-05T17:27:12.694Z"
   },
   {
    "duration": 197,
    "start_time": "2022-04-05T17:27:13.187Z"
   },
   {
    "duration": 119,
    "start_time": "2022-04-05T17:27:13.387Z"
   },
   {
    "duration": 380,
    "start_time": "2022-04-05T17:27:13.508Z"
   },
   {
    "duration": 0,
    "start_time": "2022-04-05T17:27:13.890Z"
   },
   {
    "duration": 0,
    "start_time": "2022-04-05T17:27:13.893Z"
   },
   {
    "duration": 0,
    "start_time": "2022-04-05T17:27:13.895Z"
   },
   {
    "duration": 0,
    "start_time": "2022-04-05T17:27:13.897Z"
   },
   {
    "duration": 0,
    "start_time": "2022-04-05T17:27:13.898Z"
   },
   {
    "duration": 2683,
    "start_time": "2022-04-05T17:27:28.301Z"
   },
   {
    "duration": 18609,
    "start_time": "2022-04-05T17:27:36.020Z"
   },
   {
    "duration": 56,
    "start_time": "2022-04-05T17:27:54.632Z"
   },
   {
    "duration": 11123,
    "start_time": "2022-04-05T17:27:54.690Z"
   },
   {
    "duration": 100,
    "start_time": "2022-04-05T17:28:05.818Z"
   },
   {
    "duration": 5071,
    "start_time": "2022-04-05T17:28:05.921Z"
   },
   {
    "duration": 213,
    "start_time": "2022-04-05T17:28:10.995Z"
   },
   {
    "duration": 73,
    "start_time": "2022-04-05T17:28:11.211Z"
   },
   {
    "duration": 2146,
    "start_time": "2022-04-05T17:28:11.286Z"
   },
   {
    "duration": 400,
    "start_time": "2022-04-05T17:28:13.482Z"
   },
   {
    "duration": 111,
    "start_time": "2022-04-05T17:28:13.886Z"
   },
   {
    "duration": 116,
    "start_time": "2022-04-05T17:28:13.999Z"
   },
   {
    "duration": 2679,
    "start_time": "2022-04-05T17:28:14.117Z"
   },
   {
    "duration": 85,
    "start_time": "2022-04-05T17:28:16.799Z"
   },
   {
    "duration": 205,
    "start_time": "2022-04-05T17:28:16.886Z"
   },
   {
    "duration": 789,
    "start_time": "2022-04-05T17:28:17.093Z"
   },
   {
    "duration": 4,
    "start_time": "2022-04-05T17:28:17.885Z"
   },
   {
    "duration": 14294,
    "start_time": "2022-04-05T17:28:17.892Z"
   },
   {
    "duration": 48,
    "start_time": "2022-04-05T17:29:06.175Z"
   },
   {
    "duration": 319,
    "start_time": "2022-04-05T17:29:08.572Z"
   },
   {
    "duration": 18131,
    "start_time": "2022-04-05T17:29:14.678Z"
   },
   {
    "duration": 8,
    "start_time": "2022-04-05T17:29:32.812Z"
   },
   {
    "duration": 10323,
    "start_time": "2022-04-05T17:29:32.882Z"
   },
   {
    "duration": 99,
    "start_time": "2022-04-05T17:29:43.208Z"
   },
   {
    "duration": 5107,
    "start_time": "2022-04-05T17:29:43.309Z"
   },
   {
    "duration": 189,
    "start_time": "2022-04-05T17:29:48.418Z"
   },
   {
    "duration": 73,
    "start_time": "2022-04-05T17:29:48.609Z"
   },
   {
    "duration": 2319,
    "start_time": "2022-04-05T17:29:48.685Z"
   },
   {
    "duration": 387,
    "start_time": "2022-04-05T17:29:51.007Z"
   },
   {
    "duration": 113,
    "start_time": "2022-04-05T17:29:51.398Z"
   },
   {
    "duration": 181,
    "start_time": "2022-04-05T17:29:51.514Z"
   },
   {
    "duration": 2191,
    "start_time": "2022-04-05T17:29:51.697Z"
   },
   {
    "duration": 21,
    "start_time": "2022-04-05T17:29:53.891Z"
   },
   {
    "duration": 200,
    "start_time": "2022-04-05T17:29:53.982Z"
   },
   {
    "duration": 819,
    "start_time": "2022-04-05T17:29:54.185Z"
   },
   {
    "duration": 3,
    "start_time": "2022-04-05T17:29:55.007Z"
   },
   {
    "duration": 13884,
    "start_time": "2022-04-05T17:29:55.013Z"
   },
   {
    "duration": 18038,
    "start_time": "2022-04-05T17:30:37.366Z"
   },
   {
    "duration": 8,
    "start_time": "2022-04-05T17:30:55.407Z"
   },
   {
    "duration": 10687,
    "start_time": "2022-04-05T17:30:55.417Z"
   },
   {
    "duration": 100,
    "start_time": "2022-04-05T17:31:06.108Z"
   },
   {
    "duration": 4508,
    "start_time": "2022-04-05T17:31:06.210Z"
   },
   {
    "duration": 279,
    "start_time": "2022-04-05T17:31:10.720Z"
   },
   {
    "duration": 5,
    "start_time": "2022-04-05T17:31:11.001Z"
   },
   {
    "duration": 2392,
    "start_time": "2022-04-05T17:31:11.008Z"
   },
   {
    "duration": 400,
    "start_time": "2022-04-05T17:31:13.402Z"
   },
   {
    "duration": 180,
    "start_time": "2022-04-05T17:31:13.806Z"
   },
   {
    "duration": 122,
    "start_time": "2022-04-05T17:31:13.989Z"
   },
   {
    "duration": 2172,
    "start_time": "2022-04-05T17:31:14.113Z"
   },
   {
    "duration": 18,
    "start_time": "2022-04-05T17:31:16.287Z"
   },
   {
    "duration": 183,
    "start_time": "2022-04-05T17:31:16.308Z"
   },
   {
    "duration": 794,
    "start_time": "2022-04-05T17:31:16.493Z"
   },
   {
    "duration": 5,
    "start_time": "2022-04-05T17:31:17.289Z"
   },
   {
    "duration": 14293,
    "start_time": "2022-04-05T17:31:17.296Z"
   },
   {
    "duration": 337,
    "start_time": "2022-04-05T17:32:00.554Z"
   },
   {
    "duration": 5,
    "start_time": "2022-04-05T17:36:37.731Z"
   },
   {
    "duration": 401,
    "start_time": "2022-04-05T17:37:48.722Z"
   },
   {
    "duration": 811,
    "start_time": "2022-04-05T17:38:03.501Z"
   },
   {
    "duration": 5154,
    "start_time": "2022-04-05T17:38:48.030Z"
   },
   {
    "duration": 4336,
    "start_time": "2022-04-05T17:39:00.380Z"
   },
   {
    "duration": 3807,
    "start_time": "2022-04-05T17:39:11.587Z"
   },
   {
    "duration": 14581,
    "start_time": "2022-04-05T17:45:05.974Z"
   },
   {
    "duration": 3,
    "start_time": "2022-04-05T17:45:20.558Z"
   },
   {
    "duration": 7405,
    "start_time": "2022-04-05T17:45:20.562Z"
   },
   {
    "duration": 89,
    "start_time": "2022-04-05T17:45:27.969Z"
   },
   {
    "duration": 1183,
    "start_time": "2022-04-05T17:45:28.060Z"
   },
   {
    "duration": 2498,
    "start_time": "2022-04-05T17:45:29.245Z"
   },
   {
    "duration": 106,
    "start_time": "2022-04-05T17:45:31.744Z"
   },
   {
    "duration": 3,
    "start_time": "2022-04-05T17:45:31.851Z"
   },
   {
    "duration": 1620,
    "start_time": "2022-04-05T17:45:31.856Z"
   },
   {
    "duration": 271,
    "start_time": "2022-04-05T17:45:33.479Z"
   },
   {
    "duration": 93,
    "start_time": "2022-04-05T17:45:33.752Z"
   },
   {
    "duration": 97,
    "start_time": "2022-04-05T17:45:33.847Z"
   },
   {
    "duration": 1509,
    "start_time": "2022-04-05T17:45:33.946Z"
   },
   {
    "duration": 74,
    "start_time": "2022-04-05T17:45:35.457Z"
   },
   {
    "duration": 99,
    "start_time": "2022-04-05T17:45:35.533Z"
   },
   {
    "duration": 637,
    "start_time": "2022-04-05T17:45:35.634Z"
   },
   {
    "duration": 3,
    "start_time": "2022-04-05T17:45:36.273Z"
   },
   {
    "duration": 8986,
    "start_time": "2022-04-05T17:45:36.278Z"
   },
   {
    "duration": 63,
    "start_time": "2022-04-05T17:47:27.113Z"
   },
   {
    "duration": 437,
    "start_time": "2022-04-05T17:47:32.954Z"
   },
   {
    "duration": 23415,
    "start_time": "2022-04-06T03:58:27.653Z"
   },
   {
    "duration": 0,
    "start_time": "2022-04-06T03:58:51.071Z"
   },
   {
    "duration": 0,
    "start_time": "2022-04-06T03:58:51.072Z"
   },
   {
    "duration": 0,
    "start_time": "2022-04-06T03:58:51.144Z"
   },
   {
    "duration": 0,
    "start_time": "2022-04-06T03:58:51.145Z"
   },
   {
    "duration": 0,
    "start_time": "2022-04-06T03:58:51.146Z"
   },
   {
    "duration": 0,
    "start_time": "2022-04-06T03:58:51.148Z"
   },
   {
    "duration": 0,
    "start_time": "2022-04-06T03:58:51.149Z"
   },
   {
    "duration": 11,
    "start_time": "2022-04-06T03:59:00.072Z"
   },
   {
    "duration": 23,
    "start_time": "2022-04-06T03:59:00.086Z"
   },
   {
    "duration": 12332,
    "start_time": "2022-04-06T03:59:00.111Z"
   },
   {
    "duration": 51,
    "start_time": "2022-04-06T03:59:12.447Z"
   },
   {
    "duration": 1967,
    "start_time": "2022-04-06T03:59:12.500Z"
   },
   {
    "duration": 4582,
    "start_time": "2022-04-06T03:59:14.470Z"
   },
   {
    "duration": 17,
    "start_time": "2022-04-06T03:59:19.054Z"
   },
   {
    "duration": 1206,
    "start_time": "2022-04-06T03:59:47.781Z"
   },
   {
    "duration": 662,
    "start_time": "2022-04-06T03:59:58.342Z"
   },
   {
    "duration": 470,
    "start_time": "2022-04-06T04:01:05.114Z"
   },
   {
    "duration": 839,
    "start_time": "2022-04-06T04:01:24.343Z"
   },
   {
    "duration": 10,
    "start_time": "2022-04-06T04:02:05.462Z"
   },
   {
    "duration": 9,
    "start_time": "2022-04-06T04:02:22.346Z"
   },
   {
    "duration": 24,
    "start_time": "2022-04-06T04:02:55.878Z"
   },
   {
    "duration": 8,
    "start_time": "2022-04-06T04:03:59.994Z"
   },
   {
    "duration": 7,
    "start_time": "2022-04-06T04:04:14.170Z"
   },
   {
    "duration": 7,
    "start_time": "2022-04-06T04:05:04.922Z"
   },
   {
    "duration": 28,
    "start_time": "2022-04-06T04:05:47.059Z"
   },
   {
    "duration": 5,
    "start_time": "2022-04-06T04:06:07.482Z"
   },
   {
    "duration": 9,
    "start_time": "2022-04-06T04:06:11.658Z"
   },
   {
    "duration": 10,
    "start_time": "2022-04-06T04:06:26.962Z"
   },
   {
    "duration": 6,
    "start_time": "2022-04-06T05:29:06.533Z"
   },
   {
    "duration": 23,
    "start_time": "2022-04-06T05:29:33.361Z"
   },
   {
    "duration": 5,
    "start_time": "2022-04-06T05:29:36.426Z"
   },
   {
    "duration": 5,
    "start_time": "2022-04-06T05:29:53.045Z"
   },
   {
    "duration": 5,
    "start_time": "2022-04-06T05:30:04.085Z"
   },
   {
    "duration": 15,
    "start_time": "2022-04-06T05:30:11.181Z"
   },
   {
    "duration": 6,
    "start_time": "2022-04-06T05:30:22.267Z"
   },
   {
    "duration": 12,
    "start_time": "2022-04-06T05:30:47.773Z"
   },
   {
    "duration": 13,
    "start_time": "2022-04-06T05:31:02.033Z"
   },
   {
    "duration": 12,
    "start_time": "2022-04-06T05:31:15.508Z"
   },
   {
    "duration": 17,
    "start_time": "2022-04-06T05:31:24.569Z"
   },
   {
    "duration": 14,
    "start_time": "2022-04-06T05:31:34.229Z"
   },
   {
    "duration": 9,
    "start_time": "2022-04-06T05:31:41.945Z"
   },
   {
    "duration": 12,
    "start_time": "2022-04-06T05:31:47.817Z"
   },
   {
    "duration": 9,
    "start_time": "2022-04-06T05:32:01.205Z"
   },
   {
    "duration": 8,
    "start_time": "2022-04-06T05:32:25.241Z"
   },
   {
    "duration": 14,
    "start_time": "2022-04-06T05:32:37.435Z"
   },
   {
    "duration": 8,
    "start_time": "2022-04-06T05:32:44.705Z"
   },
   {
    "duration": 7,
    "start_time": "2022-04-06T05:32:52.693Z"
   },
   {
    "duration": 7,
    "start_time": "2022-04-06T05:36:21.326Z"
   },
   {
    "duration": 3,
    "start_time": "2022-04-06T05:36:21.336Z"
   },
   {
    "duration": 1103,
    "start_time": "2022-04-06T05:36:21.342Z"
   },
   {
    "duration": 11,
    "start_time": "2022-04-06T05:36:22.448Z"
   },
   {
    "duration": 696,
    "start_time": "2022-04-06T05:36:22.462Z"
   },
   {
    "duration": 2184,
    "start_time": "2022-04-06T05:36:23.161Z"
   },
   {
    "duration": 204,
    "start_time": "2022-04-06T05:36:25.348Z"
   },
   {
    "duration": 17844,
    "start_time": "2022-04-06T05:36:32.230Z"
   },
   {
    "duration": 5,
    "start_time": "2022-04-06T05:36:50.078Z"
   },
   {
    "duration": 10635,
    "start_time": "2022-04-06T05:36:50.142Z"
   },
   {
    "duration": 101,
    "start_time": "2022-04-06T05:37:00.842Z"
   },
   {
    "duration": 1833,
    "start_time": "2022-04-06T05:37:00.947Z"
   },
   {
    "duration": 5267,
    "start_time": "2022-04-06T05:37:02.782Z"
   },
   {
    "duration": 196,
    "start_time": "2022-04-06T05:37:08.051Z"
   },
   {
    "duration": 15705,
    "start_time": "2022-10-11T12:11:53.808Z"
   },
   {
    "duration": 3,
    "start_time": "2022-10-11T12:12:09.516Z"
   },
   {
    "duration": 8480,
    "start_time": "2022-10-11T12:12:09.521Z"
   },
   {
    "duration": 87,
    "start_time": "2022-10-11T12:12:18.004Z"
   },
   {
    "duration": 1414,
    "start_time": "2022-10-11T12:12:18.093Z"
   },
   {
    "duration": 899,
    "start_time": "2022-10-11T12:12:19.509Z"
   },
   {
    "duration": 3400,
    "start_time": "2022-10-11T12:12:20.410Z"
   },
   {
    "duration": 183,
    "start_time": "2022-10-11T12:12:23.812Z"
   },
   {
    "duration": 4,
    "start_time": "2022-10-11T12:12:23.996Z"
   },
   {
    "duration": 1786,
    "start_time": "2022-10-11T12:12:24.004Z"
   },
   {
    "duration": 324,
    "start_time": "2022-10-11T12:12:25.792Z"
   },
   {
    "duration": 167,
    "start_time": "2022-10-11T12:12:26.118Z"
   },
   {
    "duration": 102,
    "start_time": "2022-10-11T12:12:26.287Z"
   },
   {
    "duration": 1599,
    "start_time": "2022-10-11T12:12:26.391Z"
   },
   {
    "duration": 10,
    "start_time": "2022-10-11T12:12:27.991Z"
   },
   {
    "duration": 100,
    "start_time": "2022-10-11T12:12:28.003Z"
   },
   {
    "duration": 581,
    "start_time": "2022-10-11T12:12:28.105Z"
   },
   {
    "duration": 3,
    "start_time": "2022-10-11T12:12:28.688Z"
   },
   {
    "duration": 9619,
    "start_time": "2022-10-11T12:12:28.692Z"
   },
   {
    "duration": 600,
    "start_time": "2022-10-11T12:12:38.313Z"
   },
   {
    "duration": 364,
    "start_time": "2022-10-11T12:23:26.940Z"
   },
   {
    "duration": 175,
    "start_time": "2022-10-11T12:23:42.324Z"
   },
   {
    "duration": 85,
    "start_time": "2022-10-11T12:24:20.142Z"
   },
   {
    "duration": 14,
    "start_time": "2022-10-11T12:24:22.168Z"
   },
   {
    "duration": 16137,
    "start_time": "2022-10-11T12:24:33.679Z"
   },
   {
    "duration": 9,
    "start_time": "2022-10-11T12:24:49.818Z"
   },
   {
    "duration": 9357,
    "start_time": "2022-10-11T12:24:49.829Z"
   },
   {
    "duration": 34,
    "start_time": "2022-10-11T12:24:59.188Z"
   },
   {
    "duration": 577,
    "start_time": "2022-10-11T12:24:59.224Z"
   },
   {
    "duration": 97,
    "start_time": "2022-10-11T12:24:59.803Z"
   },
   {
    "duration": 0,
    "start_time": "2022-10-11T12:24:59.902Z"
   },
   {
    "duration": 0,
    "start_time": "2022-10-11T12:24:59.903Z"
   },
   {
    "duration": 0,
    "start_time": "2022-10-11T12:24:59.905Z"
   },
   {
    "duration": 0,
    "start_time": "2022-10-11T12:24:59.906Z"
   },
   {
    "duration": 0,
    "start_time": "2022-10-11T12:24:59.908Z"
   },
   {
    "duration": 0,
    "start_time": "2022-10-11T12:24:59.909Z"
   },
   {
    "duration": 0,
    "start_time": "2022-10-11T12:24:59.911Z"
   },
   {
    "duration": 0,
    "start_time": "2022-10-11T12:24:59.912Z"
   },
   {
    "duration": 0,
    "start_time": "2022-10-11T12:24:59.914Z"
   },
   {
    "duration": 0,
    "start_time": "2022-10-11T12:24:59.915Z"
   },
   {
    "duration": 0,
    "start_time": "2022-10-11T12:24:59.916Z"
   },
   {
    "duration": 0,
    "start_time": "2022-10-11T12:24:59.918Z"
   },
   {
    "duration": 0,
    "start_time": "2022-10-11T12:24:59.919Z"
   },
   {
    "duration": 0,
    "start_time": "2022-10-11T12:24:59.920Z"
   },
   {
    "duration": 0,
    "start_time": "2022-10-11T12:24:59.921Z"
   },
   {
    "duration": 1096,
    "start_time": "2022-10-11T12:27:14.714Z"
   },
   {
    "duration": 431,
    "start_time": "2022-10-11T12:27:33.058Z"
   },
   {
    "duration": 3021,
    "start_time": "2022-10-11T12:38:42.205Z"
   },
   {
    "duration": 23,
    "start_time": "2022-10-11T12:39:17.475Z"
   },
   {
    "duration": 3,
    "start_time": "2022-10-11T12:39:24.595Z"
   },
   {
    "duration": 1777,
    "start_time": "2022-10-11T12:39:28.025Z"
   },
   {
    "duration": 322,
    "start_time": "2022-10-11T12:39:31.268Z"
   },
   {
    "duration": 48,
    "start_time": "2022-10-11T12:39:32.908Z"
   },
   {
    "duration": 55,
    "start_time": "2022-10-11T12:39:34.200Z"
   },
   {
    "duration": 1470,
    "start_time": "2022-10-11T12:39:34.847Z"
   },
   {
    "duration": 74,
    "start_time": "2022-10-11T12:39:36.319Z"
   },
   {
    "duration": 95,
    "start_time": "2022-10-11T12:39:39.895Z"
   },
   {
    "duration": 474,
    "start_time": "2022-10-11T12:39:41.923Z"
   },
   {
    "duration": 2,
    "start_time": "2022-10-11T12:39:46.199Z"
   },
   {
    "duration": 9083,
    "start_time": "2022-10-11T12:39:47.930Z"
   },
   {
    "duration": 511,
    "start_time": "2022-10-11T12:39:57.016Z"
   },
   {
    "duration": 31,
    "start_time": "2022-10-11T12:56:37.655Z"
   },
   {
    "duration": 30,
    "start_time": "2022-10-11T12:57:11.123Z"
   },
   {
    "duration": 28,
    "start_time": "2022-10-11T12:57:25.062Z"
   },
   {
    "duration": 15509,
    "start_time": "2022-10-11T12:57:30.896Z"
   },
   {
    "duration": 7,
    "start_time": "2022-10-11T12:57:46.407Z"
   },
   {
    "duration": 8604,
    "start_time": "2022-10-11T12:57:46.416Z"
   },
   {
    "duration": 31,
    "start_time": "2022-10-11T12:57:55.086Z"
   },
   {
    "duration": 419,
    "start_time": "2022-10-11T12:57:55.118Z"
   },
   {
    "duration": 1033,
    "start_time": "2022-10-11T12:57:55.586Z"
   },
   {
    "duration": 2567,
    "start_time": "2022-10-11T12:57:56.621Z"
   },
   {
    "duration": 2,
    "start_time": "2022-10-11T12:57:59.190Z"
   },
   {
    "duration": 23,
    "start_time": "2022-10-11T12:57:59.194Z"
   },
   {
    "duration": 4,
    "start_time": "2022-10-11T12:57:59.220Z"
   },
   {
    "duration": 1800,
    "start_time": "2022-10-11T12:57:59.225Z"
   },
   {
    "duration": 305,
    "start_time": "2022-10-11T12:58:01.086Z"
   },
   {
    "duration": 102,
    "start_time": "2022-10-11T12:58:01.393Z"
   },
   {
    "duration": 90,
    "start_time": "2022-10-11T12:58:01.496Z"
   },
   {
    "duration": 1297,
    "start_time": "2022-10-11T12:58:01.588Z"
   },
   {
    "duration": 11,
    "start_time": "2022-10-11T12:58:02.887Z"
   },
   {
    "duration": 186,
    "start_time": "2022-10-11T12:58:02.900Z"
   },
   {
    "duration": 504,
    "start_time": "2022-10-11T12:58:03.088Z"
   },
   {
    "duration": 3,
    "start_time": "2022-10-11T12:58:03.594Z"
   },
   {
    "duration": 9010,
    "start_time": "2022-10-11T12:58:03.599Z"
   },
   {
    "duration": 2698,
    "start_time": "2022-10-11T12:58:12.611Z"
   },
   {
    "duration": 0,
    "start_time": "2022-10-11T12:58:15.310Z"
   },
   {
    "duration": 2475,
    "start_time": "2022-10-11T12:59:02.224Z"
   },
   {
    "duration": 2164,
    "start_time": "2022-10-11T12:59:37.864Z"
   },
   {
    "duration": 2148,
    "start_time": "2022-10-11T13:00:25.067Z"
   },
   {
    "duration": 1775,
    "start_time": "2022-10-11T13:00:31.612Z"
   },
   {
    "duration": 1716,
    "start_time": "2022-10-11T13:00:41.969Z"
   },
   {
    "duration": 1389,
    "start_time": "2022-10-11T13:00:46.821Z"
   },
   {
    "duration": 1491,
    "start_time": "2022-10-11T13:01:03.396Z"
   },
   {
    "duration": 1308,
    "start_time": "2022-10-11T13:02:15.809Z"
   },
   {
    "duration": 1839,
    "start_time": "2022-10-11T13:03:02.685Z"
   },
   {
    "duration": 1812,
    "start_time": "2022-10-11T13:03:11.710Z"
   },
   {
    "duration": 16817,
    "start_time": "2022-10-11T13:27:06.480Z"
   },
   {
    "duration": 8,
    "start_time": "2022-10-11T13:27:23.299Z"
   },
   {
    "duration": 10218,
    "start_time": "2022-10-11T13:27:23.310Z"
   },
   {
    "duration": 94,
    "start_time": "2022-10-11T13:27:33.531Z"
   },
   {
    "duration": 596,
    "start_time": "2022-10-11T13:27:33.628Z"
   },
   {
    "duration": 1192,
    "start_time": "2022-10-11T13:27:34.226Z"
   },
   {
    "duration": 3277,
    "start_time": "2022-10-11T13:27:35.421Z"
   },
   {
    "duration": 7,
    "start_time": "2022-10-11T13:27:38.703Z"
   },
   {
    "duration": 25,
    "start_time": "2022-10-11T13:27:38.712Z"
   },
   {
    "duration": 2,
    "start_time": "2022-10-11T13:27:38.740Z"
   },
   {
    "duration": 2272,
    "start_time": "2022-10-11T13:27:38.744Z"
   },
   {
    "duration": 482,
    "start_time": "2022-10-11T13:27:41.019Z"
   },
   {
    "duration": 201,
    "start_time": "2022-10-11T13:27:41.502Z"
   },
   {
    "duration": 171,
    "start_time": "2022-10-11T13:27:41.715Z"
   },
   {
    "duration": 1803,
    "start_time": "2022-10-11T13:27:41.888Z"
   },
   {
    "duration": 11,
    "start_time": "2022-10-11T13:27:43.699Z"
   },
   {
    "duration": 109,
    "start_time": "2022-10-11T13:27:43.712Z"
   },
   {
    "duration": 671,
    "start_time": "2022-10-11T13:27:43.823Z"
   },
   {
    "duration": 7,
    "start_time": "2022-10-11T13:27:44.495Z"
   },
   {
    "duration": 11306,
    "start_time": "2022-10-11T13:27:44.503Z"
   },
   {
    "duration": 2907,
    "start_time": "2022-10-11T13:27:55.811Z"
   },
   {
    "duration": 2888,
    "start_time": "2022-10-11T13:27:58.720Z"
   },
   {
    "duration": 591,
    "start_time": "2022-10-11T13:28:01.610Z"
   },
   {
    "duration": 17585,
    "start_time": "2022-10-11T13:31:53.009Z"
   },
   {
    "duration": 5,
    "start_time": "2022-10-11T13:32:10.595Z"
   },
   {
    "duration": 10507,
    "start_time": "2022-10-11T13:32:10.604Z"
   },
   {
    "duration": 87,
    "start_time": "2022-10-11T13:32:21.112Z"
   },
   {
    "duration": 696,
    "start_time": "2022-10-11T13:32:21.201Z"
   },
   {
    "duration": 1228,
    "start_time": "2022-10-11T13:32:21.899Z"
   },
   {
    "duration": 3309,
    "start_time": "2022-10-11T13:32:23.129Z"
   },
   {
    "duration": 67,
    "start_time": "2022-10-11T13:32:26.440Z"
   },
   {
    "duration": 6,
    "start_time": "2022-10-11T13:32:26.511Z"
   },
   {
    "duration": 2210,
    "start_time": "2022-10-11T13:32:26.522Z"
   },
   {
    "duration": 352,
    "start_time": "2022-10-11T13:32:28.735Z"
   },
   {
    "duration": 132,
    "start_time": "2022-10-11T13:32:29.089Z"
   },
   {
    "duration": 83,
    "start_time": "2022-10-11T13:32:29.223Z"
   },
   {
    "duration": 1725,
    "start_time": "2022-10-11T13:32:29.312Z"
   },
   {
    "duration": 26,
    "start_time": "2022-10-11T13:32:31.087Z"
   },
   {
    "duration": 104,
    "start_time": "2022-10-11T13:32:31.115Z"
   },
   {
    "duration": 679,
    "start_time": "2022-10-11T13:32:31.222Z"
   },
   {
    "duration": 6,
    "start_time": "2022-10-11T13:32:31.903Z"
   },
   {
    "duration": 12495,
    "start_time": "2022-10-11T13:32:31.911Z"
   },
   {
    "duration": 3001,
    "start_time": "2022-10-11T13:32:44.407Z"
   },
   {
    "duration": 3800,
    "start_time": "2022-10-11T13:32:47.413Z"
   },
   {
    "duration": 478,
    "start_time": "2022-10-11T13:32:51.215Z"
   },
   {
    "duration": 16879,
    "start_time": "2022-10-11T13:33:32.847Z"
   },
   {
    "duration": 3,
    "start_time": "2022-10-11T13:33:49.729Z"
   },
   {
    "duration": 9423,
    "start_time": "2022-10-11T13:33:49.786Z"
   },
   {
    "duration": 94,
    "start_time": "2022-10-11T13:33:59.212Z"
   },
   {
    "duration": 594,
    "start_time": "2022-10-11T13:33:59.312Z"
   },
   {
    "duration": 1213,
    "start_time": "2022-10-11T13:33:59.908Z"
   },
   {
    "duration": 2894,
    "start_time": "2022-10-11T13:34:01.125Z"
   },
   {
    "duration": 90,
    "start_time": "2022-10-11T13:34:04.021Z"
   },
   {
    "duration": 4,
    "start_time": "2022-10-11T13:34:04.113Z"
   },
   {
    "duration": 110,
    "start_time": "2022-10-11T13:34:04.120Z"
   },
   {
    "duration": 0,
    "start_time": "2022-10-11T13:34:04.232Z"
   },
   {
    "duration": 0,
    "start_time": "2022-10-11T13:34:04.233Z"
   },
   {
    "duration": 0,
    "start_time": "2022-10-11T13:34:04.235Z"
   },
   {
    "duration": 0,
    "start_time": "2022-10-11T13:34:04.236Z"
   },
   {
    "duration": 0,
    "start_time": "2022-10-11T13:34:04.237Z"
   },
   {
    "duration": 0,
    "start_time": "2022-10-11T13:34:04.238Z"
   },
   {
    "duration": 0,
    "start_time": "2022-10-11T13:34:04.238Z"
   },
   {
    "duration": 0,
    "start_time": "2022-10-11T13:34:04.239Z"
   },
   {
    "duration": 0,
    "start_time": "2022-10-11T13:34:04.241Z"
   },
   {
    "duration": 0,
    "start_time": "2022-10-11T13:34:04.242Z"
   },
   {
    "duration": 0,
    "start_time": "2022-10-11T13:34:04.243Z"
   },
   {
    "duration": 0,
    "start_time": "2022-10-11T13:34:04.244Z"
   },
   {
    "duration": 4,
    "start_time": "2022-10-11T13:34:29.452Z"
   },
   {
    "duration": 1853,
    "start_time": "2022-10-11T13:34:52.574Z"
   },
   {
    "duration": 17247,
    "start_time": "2022-10-11T13:35:01.575Z"
   },
   {
    "duration": 3,
    "start_time": "2022-10-11T13:35:18.825Z"
   },
   {
    "duration": 8977,
    "start_time": "2022-10-11T13:35:18.830Z"
   },
   {
    "duration": 88,
    "start_time": "2022-10-11T13:35:27.810Z"
   },
   {
    "duration": 515,
    "start_time": "2022-10-11T13:35:27.906Z"
   },
   {
    "duration": 1291,
    "start_time": "2022-10-11T13:35:28.423Z"
   },
   {
    "duration": 2787,
    "start_time": "2022-10-11T13:35:29.717Z"
   },
   {
    "duration": 18,
    "start_time": "2022-10-11T13:35:32.506Z"
   },
   {
    "duration": 4,
    "start_time": "2022-10-11T13:35:32.584Z"
   },
   {
    "duration": 1812,
    "start_time": "2022-10-11T13:35:32.593Z"
   },
   {
    "duration": 317,
    "start_time": "2022-10-11T13:35:34.407Z"
   },
   {
    "duration": 163,
    "start_time": "2022-10-11T13:35:34.725Z"
   },
   {
    "duration": 35,
    "start_time": "2022-10-11T13:35:34.890Z"
   },
   {
    "duration": 1484,
    "start_time": "2022-10-11T13:35:34.926Z"
   },
   {
    "duration": 10,
    "start_time": "2022-10-11T13:35:36.412Z"
   },
   {
    "duration": 166,
    "start_time": "2022-10-11T13:35:36.424Z"
   },
   {
    "duration": 612,
    "start_time": "2022-10-11T13:35:36.594Z"
   },
   {
    "duration": 7,
    "start_time": "2022-10-11T13:35:37.215Z"
   },
   {
    "duration": 9396,
    "start_time": "2022-10-11T13:35:37.224Z"
   },
   {
    "duration": 2436,
    "start_time": "2022-10-11T13:35:46.691Z"
   },
   {
    "duration": 2788,
    "start_time": "2022-10-11T13:35:49.129Z"
   },
   {
    "duration": 508,
    "start_time": "2022-10-11T13:35:51.919Z"
   },
   {
    "duration": 16545,
    "start_time": "2022-10-11T13:36:28.363Z"
   },
   {
    "duration": 3,
    "start_time": "2022-10-11T13:36:44.913Z"
   },
   {
    "duration": 8967,
    "start_time": "2022-10-11T13:36:44.917Z"
   },
   {
    "duration": 31,
    "start_time": "2022-10-11T13:36:53.887Z"
   },
   {
    "duration": 596,
    "start_time": "2022-10-11T13:36:53.920Z"
   },
   {
    "duration": 1101,
    "start_time": "2022-10-11T13:36:54.517Z"
   },
   {
    "duration": 2481,
    "start_time": "2022-10-11T13:36:55.619Z"
   },
   {
    "duration": 91,
    "start_time": "2022-10-11T13:36:58.102Z"
   },
   {
    "duration": 4,
    "start_time": "2022-10-11T13:36:58.195Z"
   },
   {
    "duration": 1986,
    "start_time": "2022-10-11T13:36:58.204Z"
   },
   {
    "duration": 383,
    "start_time": "2022-10-11T13:37:00.203Z"
   },
   {
    "duration": 112,
    "start_time": "2022-10-11T13:37:00.589Z"
   },
   {
    "duration": 88,
    "start_time": "2022-10-11T13:37:00.703Z"
   },
   {
    "duration": 1517,
    "start_time": "2022-10-11T13:37:00.799Z"
   },
   {
    "duration": 10,
    "start_time": "2022-10-11T13:37:02.319Z"
   },
   {
    "duration": 44,
    "start_time": "2022-10-11T13:37:02.392Z"
   },
   {
    "duration": 608,
    "start_time": "2022-10-11T13:37:02.493Z"
   },
   {
    "duration": 6002,
    "start_time": "2022-10-11T13:37:03.103Z"
   },
   {
    "duration": 3890,
    "start_time": "2022-10-11T13:37:09.107Z"
   },
   {
    "duration": 228,
    "start_time": "2022-10-11T13:37:12.999Z"
   }
  ],
  "colab": {
   "name": "PySparkSprint.ipynb",
   "provenance": []
  },
  "kernelspec": {
   "display_name": "Python 3",
   "language": "python",
   "name": "python3"
  },
  "language_info": {
   "codemirror_mode": {
    "name": "ipython",
    "version": 3
   },
   "file_extension": ".py",
   "mimetype": "text/x-python",
   "name": "python",
   "nbconvert_exporter": "python",
   "pygments_lexer": "ipython3",
   "version": "3.8.8"
  },
  "toc": {
   "base_numbering": 1,
   "nav_menu": {},
   "number_sections": true,
   "sideBar": true,
   "skip_h1_title": true,
   "title_cell": "Table of Contents",
   "title_sidebar": "Contents",
   "toc_cell": false,
   "toc_position": {},
   "toc_section_display": true,
   "toc_window_display": false
  }
 },
 "nbformat": 4,
 "nbformat_minor": 5
}
